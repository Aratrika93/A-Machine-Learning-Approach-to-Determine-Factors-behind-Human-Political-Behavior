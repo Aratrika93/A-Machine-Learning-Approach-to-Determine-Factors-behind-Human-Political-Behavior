{
 "cells": [
  {
   "cell_type": "markdown",
   "metadata": {},
   "source": [
    "# Importing Data"
   ]
  },
  {
   "cell_type": "code",
   "execution_count": 4,
   "metadata": {},
   "outputs": [],
   "source": [
    "import pandas as pd\n",
    "import numpy as np"
   ]
  },
  {
   "cell_type": "code",
   "execution_count": 5,
   "metadata": {},
   "outputs": [
    {
     "data": {
      "text/html": [
       "<div>\n",
       "<style scoped>\n",
       "    .dataframe tbody tr th:only-of-type {\n",
       "        vertical-align: middle;\n",
       "    }\n",
       "\n",
       "    .dataframe tbody tr th {\n",
       "        vertical-align: top;\n",
       "    }\n",
       "\n",
       "    .dataframe thead th {\n",
       "        text-align: right;\n",
       "    }\n",
       "</style>\n",
       "<table border=\"1\" class=\"dataframe\">\n",
       "  <thead>\n",
       "    <tr style=\"text-align: right;\">\n",
       "      <th></th>\n",
       "      <th>CensusId</th>\n",
       "      <th>State</th>\n",
       "      <th>County</th>\n",
       "      <th>TotalPop</th>\n",
       "      <th>Men</th>\n",
       "      <th>Women</th>\n",
       "      <th>Hispanic</th>\n",
       "      <th>White</th>\n",
       "      <th>Black</th>\n",
       "      <th>Native</th>\n",
       "      <th>...</th>\n",
       "      <th>OtherTransp</th>\n",
       "      <th>WorkAtHome</th>\n",
       "      <th>MeanCommute</th>\n",
       "      <th>Employed</th>\n",
       "      <th>PrivateWork</th>\n",
       "      <th>PublicWork</th>\n",
       "      <th>SelfEmployed</th>\n",
       "      <th>FamilyWork</th>\n",
       "      <th>Unemployment</th>\n",
       "      <th>Party</th>\n",
       "    </tr>\n",
       "  </thead>\n",
       "  <tbody>\n",
       "    <tr>\n",
       "      <th>0</th>\n",
       "      <td>1001</td>\n",
       "      <td>Alabama</td>\n",
       "      <td>Autauga</td>\n",
       "      <td>55221</td>\n",
       "      <td>26745</td>\n",
       "      <td>28476</td>\n",
       "      <td>2.6</td>\n",
       "      <td>75.8</td>\n",
       "      <td>18.5</td>\n",
       "      <td>0.4</td>\n",
       "      <td>...</td>\n",
       "      <td>1.3</td>\n",
       "      <td>1.8</td>\n",
       "      <td>26.5</td>\n",
       "      <td>23986</td>\n",
       "      <td>73.6</td>\n",
       "      <td>20.9</td>\n",
       "      <td>5.5</td>\n",
       "      <td>0.0</td>\n",
       "      <td>7.6</td>\n",
       "      <td>republican</td>\n",
       "    </tr>\n",
       "    <tr>\n",
       "      <th>1</th>\n",
       "      <td>1003</td>\n",
       "      <td>Alabama</td>\n",
       "      <td>Baldwin</td>\n",
       "      <td>195121</td>\n",
       "      <td>95314</td>\n",
       "      <td>99807</td>\n",
       "      <td>4.5</td>\n",
       "      <td>83.1</td>\n",
       "      <td>9.5</td>\n",
       "      <td>0.6</td>\n",
       "      <td>...</td>\n",
       "      <td>1.4</td>\n",
       "      <td>3.9</td>\n",
       "      <td>26.4</td>\n",
       "      <td>85953</td>\n",
       "      <td>81.5</td>\n",
       "      <td>12.3</td>\n",
       "      <td>5.8</td>\n",
       "      <td>0.4</td>\n",
       "      <td>7.5</td>\n",
       "      <td>republican</td>\n",
       "    </tr>\n",
       "    <tr>\n",
       "      <th>2</th>\n",
       "      <td>1005</td>\n",
       "      <td>Alabama</td>\n",
       "      <td>Barbour</td>\n",
       "      <td>26932</td>\n",
       "      <td>14497</td>\n",
       "      <td>12435</td>\n",
       "      <td>4.6</td>\n",
       "      <td>46.2</td>\n",
       "      <td>46.7</td>\n",
       "      <td>0.2</td>\n",
       "      <td>...</td>\n",
       "      <td>1.5</td>\n",
       "      <td>1.6</td>\n",
       "      <td>24.1</td>\n",
       "      <td>8597</td>\n",
       "      <td>71.8</td>\n",
       "      <td>20.8</td>\n",
       "      <td>7.3</td>\n",
       "      <td>0.1</td>\n",
       "      <td>17.6</td>\n",
       "      <td>republican</td>\n",
       "    </tr>\n",
       "    <tr>\n",
       "      <th>3</th>\n",
       "      <td>1007</td>\n",
       "      <td>Alabama</td>\n",
       "      <td>Bibb</td>\n",
       "      <td>22604</td>\n",
       "      <td>12073</td>\n",
       "      <td>10531</td>\n",
       "      <td>2.2</td>\n",
       "      <td>74.5</td>\n",
       "      <td>21.4</td>\n",
       "      <td>0.4</td>\n",
       "      <td>...</td>\n",
       "      <td>1.5</td>\n",
       "      <td>0.7</td>\n",
       "      <td>28.8</td>\n",
       "      <td>8294</td>\n",
       "      <td>76.8</td>\n",
       "      <td>16.1</td>\n",
       "      <td>6.7</td>\n",
       "      <td>0.4</td>\n",
       "      <td>8.3</td>\n",
       "      <td>republican</td>\n",
       "    </tr>\n",
       "    <tr>\n",
       "      <th>4</th>\n",
       "      <td>1009</td>\n",
       "      <td>Alabama</td>\n",
       "      <td>Blount</td>\n",
       "      <td>57710</td>\n",
       "      <td>28512</td>\n",
       "      <td>29198</td>\n",
       "      <td>8.6</td>\n",
       "      <td>87.9</td>\n",
       "      <td>1.5</td>\n",
       "      <td>0.3</td>\n",
       "      <td>...</td>\n",
       "      <td>0.4</td>\n",
       "      <td>2.3</td>\n",
       "      <td>34.9</td>\n",
       "      <td>22189</td>\n",
       "      <td>82.0</td>\n",
       "      <td>13.5</td>\n",
       "      <td>4.2</td>\n",
       "      <td>0.4</td>\n",
       "      <td>7.7</td>\n",
       "      <td>republican</td>\n",
       "    </tr>\n",
       "  </tbody>\n",
       "</table>\n",
       "<p>5 rows × 38 columns</p>\n",
       "</div>"
      ],
      "text/plain": [
       "   CensusId    State   County  TotalPop    Men  Women  Hispanic  White  Black  \\\n",
       "0      1001  Alabama  Autauga     55221  26745  28476       2.6   75.8   18.5   \n",
       "1      1003  Alabama  Baldwin    195121  95314  99807       4.5   83.1    9.5   \n",
       "2      1005  Alabama  Barbour     26932  14497  12435       4.6   46.2   46.7   \n",
       "3      1007  Alabama     Bibb     22604  12073  10531       2.2   74.5   21.4   \n",
       "4      1009  Alabama   Blount     57710  28512  29198       8.6   87.9    1.5   \n",
       "\n",
       "   Native  ...  OtherTransp  WorkAtHome  MeanCommute  Employed  PrivateWork  \\\n",
       "0     0.4  ...          1.3         1.8         26.5     23986         73.6   \n",
       "1     0.6  ...          1.4         3.9         26.4     85953         81.5   \n",
       "2     0.2  ...          1.5         1.6         24.1      8597         71.8   \n",
       "3     0.4  ...          1.5         0.7         28.8      8294         76.8   \n",
       "4     0.3  ...          0.4         2.3         34.9     22189         82.0   \n",
       "\n",
       "   PublicWork  SelfEmployed  FamilyWork  Unemployment       Party  \n",
       "0        20.9           5.5         0.0           7.6  republican  \n",
       "1        12.3           5.8         0.4           7.5  republican  \n",
       "2        20.8           7.3         0.1          17.6  republican  \n",
       "3        16.1           6.7         0.4           8.3  republican  \n",
       "4        13.5           4.2         0.4           7.7  republican  \n",
       "\n",
       "[5 rows x 38 columns]"
      ]
     },
     "execution_count": 5,
     "metadata": {},
     "output_type": "execute_result"
    }
   ],
   "source": [
    "data= pd.read_csv('Data for Census_Political affiliaion.csv')\n",
    "data.head()"
   ]
  },
  {
   "cell_type": "markdown",
   "metadata": {},
   "source": [
    "# Data Exploration"
   ]
  },
  {
   "cell_type": "code",
   "execution_count": 6,
   "metadata": {},
   "outputs": [
    {
     "name": "stdout",
     "output_type": "stream",
     "text": [
      "<class 'pandas.core.frame.DataFrame'>\n",
      "RangeIndex: 2980 entries, 0 to 2979\n",
      "Data columns (total 38 columns):\n",
      " #   Column           Non-Null Count  Dtype  \n",
      "---  ------           --------------  -----  \n",
      " 0   CensusId         2980 non-null   int64  \n",
      " 1   State            2980 non-null   object \n",
      " 2   County           2980 non-null   object \n",
      " 3   TotalPop         2980 non-null   int64  \n",
      " 4   Men              2980 non-null   int64  \n",
      " 5   Women            2980 non-null   int64  \n",
      " 6   Hispanic         2980 non-null   float64\n",
      " 7   White            2980 non-null   float64\n",
      " 8   Black            2980 non-null   float64\n",
      " 9   Native           2980 non-null   float64\n",
      " 10  Asian            2980 non-null   float64\n",
      " 11  Pacific          2980 non-null   float64\n",
      " 12  Citizen          2980 non-null   int64  \n",
      " 13  Income           2979 non-null   float64\n",
      " 14  IncomeErr        2979 non-null   float64\n",
      " 15  IncomePerCap     2980 non-null   int64  \n",
      " 16  IncomePerCapErr  2980 non-null   int64  \n",
      " 17  Poverty          2980 non-null   float64\n",
      " 18  ChildPoverty     2979 non-null   float64\n",
      " 19  Professional     2980 non-null   float64\n",
      " 20  Service          2980 non-null   float64\n",
      " 21  Office           2980 non-null   float64\n",
      " 22  Construction     2980 non-null   float64\n",
      " 23  Production       2980 non-null   float64\n",
      " 24  Drive            2980 non-null   float64\n",
      " 25  Carpool          2980 non-null   float64\n",
      " 26  Transit          2980 non-null   float64\n",
      " 27  Walk             2980 non-null   float64\n",
      " 28  OtherTransp      2980 non-null   float64\n",
      " 29  WorkAtHome       2980 non-null   float64\n",
      " 30  MeanCommute      2980 non-null   float64\n",
      " 31  Employed         2980 non-null   int64  \n",
      " 32  PrivateWork      2980 non-null   float64\n",
      " 33  PublicWork       2980 non-null   float64\n",
      " 34  SelfEmployed     2980 non-null   float64\n",
      " 35  FamilyWork       2980 non-null   float64\n",
      " 36  Unemployment     2980 non-null   float64\n",
      " 37  Party            2976 non-null   object \n",
      "dtypes: float64(27), int64(8), object(3)\n",
      "memory usage: 884.8+ KB\n"
     ]
    }
   ],
   "source": [
    "data.info()"
   ]
  },
  {
   "cell_type": "code",
   "execution_count": 7,
   "metadata": {},
   "outputs": [
    {
     "data": {
      "text/plain": [
       "CensusId           0\n",
       "State              0\n",
       "County             0\n",
       "TotalPop           0\n",
       "Men                0\n",
       "Women              0\n",
       "Hispanic           0\n",
       "White              0\n",
       "Black              0\n",
       "Native             0\n",
       "Asian              0\n",
       "Pacific            0\n",
       "Citizen            0\n",
       "Income             1\n",
       "IncomeErr          1\n",
       "IncomePerCap       0\n",
       "IncomePerCapErr    0\n",
       "Poverty            0\n",
       "ChildPoverty       1\n",
       "Professional       0\n",
       "Service            0\n",
       "Office             0\n",
       "Construction       0\n",
       "Production         0\n",
       "Drive              0\n",
       "Carpool            0\n",
       "Transit            0\n",
       "Walk               0\n",
       "OtherTransp        0\n",
       "WorkAtHome         0\n",
       "MeanCommute        0\n",
       "Employed           0\n",
       "PrivateWork        0\n",
       "PublicWork         0\n",
       "SelfEmployed       0\n",
       "FamilyWork         0\n",
       "Unemployment       0\n",
       "Party              4\n",
       "dtype: int64"
      ]
     },
     "execution_count": 7,
     "metadata": {},
     "output_type": "execute_result"
    }
   ],
   "source": [
    "data.isnull().sum()"
   ]
  },
  {
   "cell_type": "code",
   "execution_count": 8,
   "metadata": {},
   "outputs": [],
   "source": [
    "data1 = data.dropna()"
   ]
  },
  {
   "cell_type": "code",
   "execution_count": 9,
   "metadata": {},
   "outputs": [
    {
     "data": {
      "text/plain": [
       "CensusId           0\n",
       "State              0\n",
       "County             0\n",
       "TotalPop           0\n",
       "Men                0\n",
       "Women              0\n",
       "Hispanic           0\n",
       "White              0\n",
       "Black              0\n",
       "Native             0\n",
       "Asian              0\n",
       "Pacific            0\n",
       "Citizen            0\n",
       "Income             0\n",
       "IncomeErr          0\n",
       "IncomePerCap       0\n",
       "IncomePerCapErr    0\n",
       "Poverty            0\n",
       "ChildPoverty       0\n",
       "Professional       0\n",
       "Service            0\n",
       "Office             0\n",
       "Construction       0\n",
       "Production         0\n",
       "Drive              0\n",
       "Carpool            0\n",
       "Transit            0\n",
       "Walk               0\n",
       "OtherTransp        0\n",
       "WorkAtHome         0\n",
       "MeanCommute        0\n",
       "Employed           0\n",
       "PrivateWork        0\n",
       "PublicWork         0\n",
       "SelfEmployed       0\n",
       "FamilyWork         0\n",
       "Unemployment       0\n",
       "Party              0\n",
       "dtype: int64"
      ]
     },
     "execution_count": 9,
     "metadata": {},
     "output_type": "execute_result"
    }
   ],
   "source": [
    "data1.isnull().sum()"
   ]
  },
  {
   "cell_type": "code",
   "execution_count": 10,
   "metadata": {},
   "outputs": [
    {
     "data": {
      "text/plain": [
       "republican    2528\n",
       "democrat       445\n",
       "Republican       1\n",
       "Name: Party, dtype: int64"
      ]
     },
     "execution_count": 10,
     "metadata": {},
     "output_type": "execute_result"
    }
   ],
   "source": [
    "data1['Party'].value_counts()"
   ]
  },
  {
   "cell_type": "code",
   "execution_count": 11,
   "metadata": {},
   "outputs": [],
   "source": [
    "data1 = data1[data1.Party != \"Republican\" ]"
   ]
  },
  {
   "cell_type": "code",
   "execution_count": 12,
   "metadata": {},
   "outputs": [
    {
     "data": {
      "text/plain": [
       "republican    2528\n",
       "democrat       445\n",
       "Name: Party, dtype: int64"
      ]
     },
     "execution_count": 12,
     "metadata": {},
     "output_type": "execute_result"
    }
   ],
   "source": [
    "data1['Party'].value_counts()"
   ]
  },
  {
   "cell_type": "code",
   "execution_count": 15,
   "metadata": {},
   "outputs": [
    {
     "data": {
      "text/html": [
       "<div>\n",
       "<style scoped>\n",
       "    .dataframe tbody tr th:only-of-type {\n",
       "        vertical-align: middle;\n",
       "    }\n",
       "\n",
       "    .dataframe tbody tr th {\n",
       "        vertical-align: top;\n",
       "    }\n",
       "\n",
       "    .dataframe thead th {\n",
       "        text-align: right;\n",
       "    }\n",
       "</style>\n",
       "<table border=\"1\" class=\"dataframe\">\n",
       "  <thead>\n",
       "    <tr style=\"text-align: right;\">\n",
       "      <th></th>\n",
       "      <th>CensusId</th>\n",
       "      <th>TotalPop</th>\n",
       "      <th>Men</th>\n",
       "      <th>Women</th>\n",
       "      <th>Hispanic</th>\n",
       "      <th>White</th>\n",
       "      <th>Black</th>\n",
       "      <th>Native</th>\n",
       "      <th>Asian</th>\n",
       "      <th>Pacific</th>\n",
       "      <th>...</th>\n",
       "      <th>Walk</th>\n",
       "      <th>OtherTransp</th>\n",
       "      <th>WorkAtHome</th>\n",
       "      <th>MeanCommute</th>\n",
       "      <th>Employed</th>\n",
       "      <th>PrivateWork</th>\n",
       "      <th>PublicWork</th>\n",
       "      <th>SelfEmployed</th>\n",
       "      <th>FamilyWork</th>\n",
       "      <th>Unemployment</th>\n",
       "    </tr>\n",
       "  </thead>\n",
       "  <tbody>\n",
       "    <tr>\n",
       "      <th>CensusId</th>\n",
       "      <td>1.000000</td>\n",
       "      <td>-0.056337</td>\n",
       "      <td>-0.056535</td>\n",
       "      <td>-0.056135</td>\n",
       "      <td>0.113338</td>\n",
       "      <td>0.043834</td>\n",
       "      <td>-0.199555</td>\n",
       "      <td>0.088000</td>\n",
       "      <td>-0.085494</td>\n",
       "      <td>-0.030727</td>\n",
       "      <td>...</td>\n",
       "      <td>0.060048</td>\n",
       "      <td>-0.089473</td>\n",
       "      <td>0.050583</td>\n",
       "      <td>-0.056535</td>\n",
       "      <td>-0.051167</td>\n",
       "      <td>-0.059562</td>\n",
       "      <td>0.024759</td>\n",
       "      <td>0.073755</td>\n",
       "      <td>0.023768</td>\n",
       "      <td>-0.170083</td>\n",
       "    </tr>\n",
       "    <tr>\n",
       "      <th>TotalPop</th>\n",
       "      <td>-0.056337</td>\n",
       "      <td>1.000000</td>\n",
       "      <td>0.999879</td>\n",
       "      <td>0.999888</td>\n",
       "      <td>0.190037</td>\n",
       "      <td>-0.246397</td>\n",
       "      <td>0.078302</td>\n",
       "      <td>-0.044295</td>\n",
       "      <td>0.507251</td>\n",
       "      <td>0.068749</td>\n",
       "      <td>...</td>\n",
       "      <td>-0.045665</td>\n",
       "      <td>0.074934</td>\n",
       "      <td>-0.032980</td>\n",
       "      <td>0.165549</td>\n",
       "      <td>0.997713</td>\n",
       "      <td>0.199236</td>\n",
       "      <td>-0.143309</td>\n",
       "      <td>-0.152067</td>\n",
       "      <td>-0.089132</td>\n",
       "      <td>0.053326</td>\n",
       "    </tr>\n",
       "    <tr>\n",
       "      <th>Men</th>\n",
       "      <td>-0.056535</td>\n",
       "      <td>0.999879</td>\n",
       "      <td>1.000000</td>\n",
       "      <td>0.999535</td>\n",
       "      <td>0.191334</td>\n",
       "      <td>-0.245710</td>\n",
       "      <td>0.075692</td>\n",
       "      <td>-0.044155</td>\n",
       "      <td>0.508409</td>\n",
       "      <td>0.070776</td>\n",
       "      <td>...</td>\n",
       "      <td>-0.046328</td>\n",
       "      <td>0.075496</td>\n",
       "      <td>-0.032611</td>\n",
       "      <td>0.164514</td>\n",
       "      <td>0.997559</td>\n",
       "      <td>0.198271</td>\n",
       "      <td>-0.142344</td>\n",
       "      <td>-0.151716</td>\n",
       "      <td>-0.088972</td>\n",
       "      <td>0.052678</td>\n",
       "    </tr>\n",
       "    <tr>\n",
       "      <th>Women</th>\n",
       "      <td>-0.056135</td>\n",
       "      <td>0.999888</td>\n",
       "      <td>0.999535</td>\n",
       "      <td>1.000000</td>\n",
       "      <td>0.188745</td>\n",
       "      <td>-0.247003</td>\n",
       "      <td>0.080798</td>\n",
       "      <td>-0.044419</td>\n",
       "      <td>0.506019</td>\n",
       "      <td>0.066782</td>\n",
       "      <td>...</td>\n",
       "      <td>-0.045016</td>\n",
       "      <td>0.074376</td>\n",
       "      <td>-0.033327</td>\n",
       "      <td>0.166508</td>\n",
       "      <td>0.997635</td>\n",
       "      <td>0.200120</td>\n",
       "      <td>-0.144206</td>\n",
       "      <td>-0.152371</td>\n",
       "      <td>-0.089266</td>\n",
       "      <td>0.053938</td>\n",
       "    </tr>\n",
       "    <tr>\n",
       "      <th>Hispanic</th>\n",
       "      <td>0.113338</td>\n",
       "      <td>0.190037</td>\n",
       "      <td>0.191334</td>\n",
       "      <td>0.188745</td>\n",
       "      <td>1.000000</td>\n",
       "      <td>-0.625136</td>\n",
       "      <td>-0.105882</td>\n",
       "      <td>-0.035811</td>\n",
       "      <td>0.151532</td>\n",
       "      <td>0.041895</td>\n",
       "      <td>...</td>\n",
       "      <td>-0.020922</td>\n",
       "      <td>0.133949</td>\n",
       "      <td>-0.044228</td>\n",
       "      <td>-0.118239</td>\n",
       "      <td>0.181052</td>\n",
       "      <td>-0.076378</td>\n",
       "      <td>0.117025</td>\n",
       "      <td>-0.030436</td>\n",
       "      <td>-0.024692</td>\n",
       "      <td>0.016275</td>\n",
       "    </tr>\n",
       "    <tr>\n",
       "      <th>White</th>\n",
       "      <td>0.043834</td>\n",
       "      <td>-0.246397</td>\n",
       "      <td>-0.245710</td>\n",
       "      <td>-0.247003</td>\n",
       "      <td>-0.625136</td>\n",
       "      <td>1.000000</td>\n",
       "      <td>-0.611512</td>\n",
       "      <td>-0.247796</td>\n",
       "      <td>-0.261344</td>\n",
       "      <td>-0.103648</td>\n",
       "      <td>...</td>\n",
       "      <td>0.115555</td>\n",
       "      <td>-0.132510</td>\n",
       "      <td>0.189183</td>\n",
       "      <td>-0.030358</td>\n",
       "      <td>-0.237804</td>\n",
       "      <td>0.137901</td>\n",
       "      <td>-0.334550</td>\n",
       "      <td>0.239317</td>\n",
       "      <td>0.098657</td>\n",
       "      <td>-0.427071</td>\n",
       "    </tr>\n",
       "    <tr>\n",
       "      <th>Black</th>\n",
       "      <td>-0.199555</td>\n",
       "      <td>0.078302</td>\n",
       "      <td>0.075692</td>\n",
       "      <td>0.080798</td>\n",
       "      <td>-0.105882</td>\n",
       "      <td>-0.611512</td>\n",
       "      <td>1.000000</td>\n",
       "      <td>-0.093559</td>\n",
       "      <td>0.024850</td>\n",
       "      <td>-0.049214</td>\n",
       "      <td>...</td>\n",
       "      <td>-0.206714</td>\n",
       "      <td>0.019815</td>\n",
       "      <td>-0.303460</td>\n",
       "      <td>0.197957</td>\n",
       "      <td>0.073364</td>\n",
       "      <td>0.045080</td>\n",
       "      <td>0.151916</td>\n",
       "      <td>-0.305194</td>\n",
       "      <td>-0.141881</td>\n",
       "      <td>0.480800</td>\n",
       "    </tr>\n",
       "    <tr>\n",
       "      <th>Native</th>\n",
       "      <td>0.088000</td>\n",
       "      <td>-0.044295</td>\n",
       "      <td>-0.044155</td>\n",
       "      <td>-0.044419</td>\n",
       "      <td>-0.035811</td>\n",
       "      <td>-0.247796</td>\n",
       "      <td>-0.093559</td>\n",
       "      <td>1.000000</td>\n",
       "      <td>-0.047877</td>\n",
       "      <td>0.029145</td>\n",
       "      <td>...</td>\n",
       "      <td>0.132803</td>\n",
       "      <td>0.005721</td>\n",
       "      <td>0.181388</td>\n",
       "      <td>-0.133089</td>\n",
       "      <td>-0.046098</td>\n",
       "      <td>-0.393262</td>\n",
       "      <td>0.431504</td>\n",
       "      <td>0.079912</td>\n",
       "      <td>0.102056</td>\n",
       "      <td>0.203247</td>\n",
       "    </tr>\n",
       "    <tr>\n",
       "      <th>Asian</th>\n",
       "      <td>-0.085494</td>\n",
       "      <td>0.507251</td>\n",
       "      <td>0.508409</td>\n",
       "      <td>0.506019</td>\n",
       "      <td>0.151532</td>\n",
       "      <td>-0.261344</td>\n",
       "      <td>0.024850</td>\n",
       "      <td>-0.047877</td>\n",
       "      <td>1.000000</td>\n",
       "      <td>0.431711</td>\n",
       "      <td>...</td>\n",
       "      <td>0.030013</td>\n",
       "      <td>0.150828</td>\n",
       "      <td>0.000357</td>\n",
       "      <td>0.119462</td>\n",
       "      <td>0.521939</td>\n",
       "      <td>0.147020</td>\n",
       "      <td>-0.071544</td>\n",
       "      <td>-0.161563</td>\n",
       "      <td>-0.097099</td>\n",
       "      <td>-0.001776</td>\n",
       "    </tr>\n",
       "    <tr>\n",
       "      <th>Pacific</th>\n",
       "      <td>-0.030727</td>\n",
       "      <td>0.068749</td>\n",
       "      <td>0.070776</td>\n",
       "      <td>0.066782</td>\n",
       "      <td>0.041895</td>\n",
       "      <td>-0.103648</td>\n",
       "      <td>-0.049214</td>\n",
       "      <td>0.029145</td>\n",
       "      <td>0.431711</td>\n",
       "      <td>1.000000</td>\n",
       "      <td>...</td>\n",
       "      <td>0.044977</td>\n",
       "      <td>0.061753</td>\n",
       "      <td>0.041415</td>\n",
       "      <td>-0.021023</td>\n",
       "      <td>0.067128</td>\n",
       "      <td>-0.053394</td>\n",
       "      <td>0.068380</td>\n",
       "      <td>-0.004524</td>\n",
       "      <td>0.013442</td>\n",
       "      <td>-0.000594</td>\n",
       "    </tr>\n",
       "    <tr>\n",
       "      <th>Citizen</th>\n",
       "      <td>-0.056712</td>\n",
       "      <td>0.996383</td>\n",
       "      <td>0.995828</td>\n",
       "      <td>0.996689</td>\n",
       "      <td>0.176235</td>\n",
       "      <td>-0.241900</td>\n",
       "      <td>0.084153</td>\n",
       "      <td>-0.047987</td>\n",
       "      <td>0.518234</td>\n",
       "      <td>0.071268</td>\n",
       "      <td>...</td>\n",
       "      <td>-0.048945</td>\n",
       "      <td>0.076015</td>\n",
       "      <td>-0.036916</td>\n",
       "      <td>0.169633</td>\n",
       "      <td>0.995315</td>\n",
       "      <td>0.215462</td>\n",
       "      <td>-0.152605</td>\n",
       "      <td>-0.168130</td>\n",
       "      <td>-0.096677</td>\n",
       "      <td>0.055021</td>\n",
       "    </tr>\n",
       "    <tr>\n",
       "      <th>Income</th>\n",
       "      <td>0.070067</td>\n",
       "      <td>0.255062</td>\n",
       "      <td>0.255755</td>\n",
       "      <td>0.254337</td>\n",
       "      <td>0.045840</td>\n",
       "      <td>0.154070</td>\n",
       "      <td>-0.295634</td>\n",
       "      <td>-0.100354</td>\n",
       "      <td>0.426367</td>\n",
       "      <td>0.066779</td>\n",
       "      <td>...</td>\n",
       "      <td>0.012477</td>\n",
       "      <td>-0.005554</td>\n",
       "      <td>0.160907</td>\n",
       "      <td>0.109274</td>\n",
       "      <td>0.276271</td>\n",
       "      <td>0.253631</td>\n",
       "      <td>-0.274741</td>\n",
       "      <td>-0.056855</td>\n",
       "      <td>-0.067168</td>\n",
       "      <td>-0.455813</td>\n",
       "    </tr>\n",
       "    <tr>\n",
       "      <th>IncomeErr</th>\n",
       "      <td>0.069922</td>\n",
       "      <td>-0.271096</td>\n",
       "      <td>-0.270574</td>\n",
       "      <td>-0.271537</td>\n",
       "      <td>0.096843</td>\n",
       "      <td>0.040840</td>\n",
       "      <td>-0.098564</td>\n",
       "      <td>0.018119</td>\n",
       "      <td>-0.245172</td>\n",
       "      <td>-0.021162</td>\n",
       "      <td>...</td>\n",
       "      <td>0.273599</td>\n",
       "      <td>0.000835</td>\n",
       "      <td>0.281278</td>\n",
       "      <td>-0.159450</td>\n",
       "      <td>-0.269284</td>\n",
       "      <td>-0.437457</td>\n",
       "      <td>0.259588</td>\n",
       "      <td>0.415778</td>\n",
       "      <td>0.231332</td>\n",
       "      <td>-0.207896</td>\n",
       "    </tr>\n",
       "    <tr>\n",
       "      <th>IncomePerCap</th>\n",
       "      <td>0.065025</td>\n",
       "      <td>0.259262</td>\n",
       "      <td>0.258200</td>\n",
       "      <td>0.260226</td>\n",
       "      <td>-0.052499</td>\n",
       "      <td>0.236054</td>\n",
       "      <td>-0.282319</td>\n",
       "      <td>-0.151174</td>\n",
       "      <td>0.395889</td>\n",
       "      <td>0.025725</td>\n",
       "      <td>...</td>\n",
       "      <td>0.137142</td>\n",
       "      <td>0.040921</td>\n",
       "      <td>0.273447</td>\n",
       "      <td>0.003631</td>\n",
       "      <td>0.284360</td>\n",
       "      <td>0.185431</td>\n",
       "      <td>-0.304681</td>\n",
       "      <td>0.113827</td>\n",
       "      <td>-0.006208</td>\n",
       "      <td>-0.490906</td>\n",
       "    </tr>\n",
       "    <tr>\n",
       "      <th>IncomePerCapErr</th>\n",
       "      <td>0.077708</td>\n",
       "      <td>-0.241051</td>\n",
       "      <td>-0.240757</td>\n",
       "      <td>-0.241279</td>\n",
       "      <td>0.073184</td>\n",
       "      <td>0.062702</td>\n",
       "      <td>-0.094714</td>\n",
       "      <td>-0.014689</td>\n",
       "      <td>-0.228087</td>\n",
       "      <td>-0.041728</td>\n",
       "      <td>...</td>\n",
       "      <td>0.287216</td>\n",
       "      <td>0.006520</td>\n",
       "      <td>0.350054</td>\n",
       "      <td>-0.209325</td>\n",
       "      <td>-0.239047</td>\n",
       "      <td>-0.442236</td>\n",
       "      <td>0.214929</td>\n",
       "      <td>0.495476</td>\n",
       "      <td>0.220388</td>\n",
       "      <td>-0.243309</td>\n",
       "    </tr>\n",
       "    <tr>\n",
       "      <th>Poverty</th>\n",
       "      <td>-0.107959</td>\n",
       "      <td>-0.057260</td>\n",
       "      <td>-0.057995</td>\n",
       "      <td>-0.056540</td>\n",
       "      <td>0.086578</td>\n",
       "      <td>-0.485884</td>\n",
       "      <td>0.494973</td>\n",
       "      <td>0.255709</td>\n",
       "      <td>-0.127903</td>\n",
       "      <td>-0.019332</td>\n",
       "      <td>...</td>\n",
       "      <td>-0.076737</td>\n",
       "      <td>0.087353</td>\n",
       "      <td>-0.245542</td>\n",
       "      <td>0.056499</td>\n",
       "      <td>-0.073106</td>\n",
       "      <td>-0.202504</td>\n",
       "      <td>0.366718</td>\n",
       "      <td>-0.172011</td>\n",
       "      <td>-0.035151</td>\n",
       "      <td>0.656026</td>\n",
       "    </tr>\n",
       "    <tr>\n",
       "      <th>ChildPoverty</th>\n",
       "      <td>-0.104773</td>\n",
       "      <td>-0.051497</td>\n",
       "      <td>-0.052443</td>\n",
       "      <td>-0.050574</td>\n",
       "      <td>0.078561</td>\n",
       "      <td>-0.463414</td>\n",
       "      <td>0.503969</td>\n",
       "      <td>0.199543</td>\n",
       "      <td>-0.157108</td>\n",
       "      <td>-0.032290</td>\n",
       "      <td>...</td>\n",
       "      <td>-0.159546</td>\n",
       "      <td>0.038212</td>\n",
       "      <td>-0.270226</td>\n",
       "      <td>0.102668</td>\n",
       "      <td>-0.067935</td>\n",
       "      <td>-0.124997</td>\n",
       "      <td>0.271500</td>\n",
       "      <td>-0.171669</td>\n",
       "      <td>-0.058673</td>\n",
       "      <td>0.623892</td>\n",
       "    </tr>\n",
       "    <tr>\n",
       "      <th>Professional</th>\n",
       "      <td>0.032931</td>\n",
       "      <td>0.255105</td>\n",
       "      <td>0.253711</td>\n",
       "      <td>0.256389</td>\n",
       "      <td>-0.093761</td>\n",
       "      <td>0.083650</td>\n",
       "      <td>-0.143479</td>\n",
       "      <td>0.079066</td>\n",
       "      <td>0.395672</td>\n",
       "      <td>0.026421</td>\n",
       "      <td>...</td>\n",
       "      <td>0.295257</td>\n",
       "      <td>0.064752</td>\n",
       "      <td>0.412692</td>\n",
       "      <td>-0.127069</td>\n",
       "      <td>0.275965</td>\n",
       "      <td>-0.193463</td>\n",
       "      <td>0.096684</td>\n",
       "      <td>0.214539</td>\n",
       "      <td>0.082028</td>\n",
       "      <td>-0.330415</td>\n",
       "    </tr>\n",
       "    <tr>\n",
       "      <th>Service</th>\n",
       "      <td>-0.006331</td>\n",
       "      <td>0.008675</td>\n",
       "      <td>0.008899</td>\n",
       "      <td>0.008457</td>\n",
       "      <td>0.175781</td>\n",
       "      <td>-0.291917</td>\n",
       "      <td>0.155942</td>\n",
       "      <td>0.147782</td>\n",
       "      <td>-0.007137</td>\n",
       "      <td>0.094258</td>\n",
       "      <td>...</td>\n",
       "      <td>0.065200</td>\n",
       "      <td>0.112490</td>\n",
       "      <td>-0.119788</td>\n",
       "      <td>-0.048007</td>\n",
       "      <td>-0.005037</td>\n",
       "      <td>-0.205192</td>\n",
       "      <td>0.358264</td>\n",
       "      <td>-0.150526</td>\n",
       "      <td>-0.062113</td>\n",
       "      <td>0.361353</td>\n",
       "    </tr>\n",
       "    <tr>\n",
       "      <th>Office</th>\n",
       "      <td>-0.062151</td>\n",
       "      <td>0.203686</td>\n",
       "      <td>0.202932</td>\n",
       "      <td>0.204366</td>\n",
       "      <td>-0.019110</td>\n",
       "      <td>-0.054483</td>\n",
       "      <td>0.107969</td>\n",
       "      <td>-0.110537</td>\n",
       "      <td>0.154788</td>\n",
       "      <td>0.025385</td>\n",
       "      <td>...</td>\n",
       "      <td>-0.285432</td>\n",
       "      <td>0.013357</td>\n",
       "      <td>-0.238776</td>\n",
       "      <td>0.143787</td>\n",
       "      <td>0.199771</td>\n",
       "      <td>0.359554</td>\n",
       "      <td>-0.202109</td>\n",
       "      <td>-0.358306</td>\n",
       "      <td>-0.196379</td>\n",
       "      <td>0.108366</td>\n",
       "    </tr>\n",
       "    <tr>\n",
       "      <th>Construction</th>\n",
       "      <td>0.094843</td>\n",
       "      <td>-0.272734</td>\n",
       "      <td>-0.270980</td>\n",
       "      <td>-0.274361</td>\n",
       "      <td>0.248350</td>\n",
       "      <td>-0.017621</td>\n",
       "      <td>-0.157132</td>\n",
       "      <td>0.025186</td>\n",
       "      <td>-0.330983</td>\n",
       "      <td>-0.015699</td>\n",
       "      <td>...</td>\n",
       "      <td>0.144010</td>\n",
       "      <td>-0.004116</td>\n",
       "      <td>0.153655</td>\n",
       "      <td>-0.038164</td>\n",
       "      <td>-0.280411</td>\n",
       "      <td>-0.319020</td>\n",
       "      <td>0.149295</td>\n",
       "      <td>0.356823</td>\n",
       "      <td>0.239180</td>\n",
       "      <td>-0.096936</td>\n",
       "    </tr>\n",
       "    <tr>\n",
       "      <th>Production</th>\n",
       "      <td>-0.068438</td>\n",
       "      <td>-0.193224</td>\n",
       "      <td>-0.192723</td>\n",
       "      <td>-0.193661</td>\n",
       "      <td>-0.181264</td>\n",
       "      <td>0.133526</td>\n",
       "      <td>0.117261</td>\n",
       "      <td>-0.136641</td>\n",
       "      <td>-0.267135</td>\n",
       "      <td>-0.089895</td>\n",
       "      <td>...</td>\n",
       "      <td>-0.314335</td>\n",
       "      <td>-0.145215</td>\n",
       "      <td>-0.360193</td>\n",
       "      <td>0.118693</td>\n",
       "      <td>-0.199629</td>\n",
       "      <td>0.379931</td>\n",
       "      <td>-0.329631</td>\n",
       "      <td>-0.209836</td>\n",
       "      <td>-0.120934</td>\n",
       "      <td>0.148603</td>\n",
       "    </tr>\n",
       "    <tr>\n",
       "      <th>Drive</th>\n",
       "      <td>-0.013700</td>\n",
       "      <td>-0.130085</td>\n",
       "      <td>-0.127918</td>\n",
       "      <td>-0.132142</td>\n",
       "      <td>-0.146295</td>\n",
       "      <td>0.060260</td>\n",
       "      <td>0.172969</td>\n",
       "      <td>-0.153651</td>\n",
       "      <td>-0.220079</td>\n",
       "      <td>-0.090472</td>\n",
       "      <td>...</td>\n",
       "      <td>-0.706713</td>\n",
       "      <td>-0.372022</td>\n",
       "      <td>-0.632124</td>\n",
       "      <td>0.146973</td>\n",
       "      <td>-0.136516</td>\n",
       "      <td>0.394832</td>\n",
       "      <td>-0.175070</td>\n",
       "      <td>-0.458495</td>\n",
       "      <td>-0.281961</td>\n",
       "      <td>0.128728</td>\n",
       "    </tr>\n",
       "    <tr>\n",
       "      <th>Carpool</th>\n",
       "      <td>-0.025735</td>\n",
       "      <td>-0.088598</td>\n",
       "      <td>-0.086918</td>\n",
       "      <td>-0.090196</td>\n",
       "      <td>0.239126</td>\n",
       "      <td>-0.192667</td>\n",
       "      <td>0.027692</td>\n",
       "      <td>0.044367</td>\n",
       "      <td>-0.079687</td>\n",
       "      <td>0.058120</td>\n",
       "      <td>...</td>\n",
       "      <td>-0.080979</td>\n",
       "      <td>0.047607</td>\n",
       "      <td>-0.111064</td>\n",
       "      <td>0.085439</td>\n",
       "      <td>-0.096398</td>\n",
       "      <td>-0.088551</td>\n",
       "      <td>0.106777</td>\n",
       "      <td>0.007871</td>\n",
       "      <td>-0.013932</td>\n",
       "      <td>0.167046</td>\n",
       "    </tr>\n",
       "    <tr>\n",
       "      <th>Transit</th>\n",
       "      <td>-0.018056</td>\n",
       "      <td>0.414223</td>\n",
       "      <td>0.407892</td>\n",
       "      <td>0.420227</td>\n",
       "      <td>0.113699</td>\n",
       "      <td>-0.202123</td>\n",
       "      <td>0.083796</td>\n",
       "      <td>-0.011246</td>\n",
       "      <td>0.475416</td>\n",
       "      <td>0.039192</td>\n",
       "      <td>...</td>\n",
       "      <td>0.177599</td>\n",
       "      <td>0.152018</td>\n",
       "      <td>0.003121</td>\n",
       "      <td>0.201194</td>\n",
       "      <td>0.425262</td>\n",
       "      <td>0.089487</td>\n",
       "      <td>-0.043508</td>\n",
       "      <td>-0.099090</td>\n",
       "      <td>-0.053128</td>\n",
       "      <td>0.040825</td>\n",
       "    </tr>\n",
       "    <tr>\n",
       "      <th>Walk</th>\n",
       "      <td>0.060048</td>\n",
       "      <td>-0.045665</td>\n",
       "      <td>-0.046328</td>\n",
       "      <td>-0.045016</td>\n",
       "      <td>-0.020922</td>\n",
       "      <td>0.115555</td>\n",
       "      <td>-0.206714</td>\n",
       "      <td>0.132803</td>\n",
       "      <td>0.030013</td>\n",
       "      <td>0.044977</td>\n",
       "      <td>...</td>\n",
       "      <td>1.000000</td>\n",
       "      <td>0.207242</td>\n",
       "      <td>0.480573</td>\n",
       "      <td>-0.397084</td>\n",
       "      <td>-0.039447</td>\n",
       "      <td>-0.411406</td>\n",
       "      <td>0.210789</td>\n",
       "      <td>0.430690</td>\n",
       "      <td>0.318117</td>\n",
       "      <td>-0.224150</td>\n",
       "    </tr>\n",
       "    <tr>\n",
       "      <th>OtherTransp</th>\n",
       "      <td>-0.089473</td>\n",
       "      <td>0.074934</td>\n",
       "      <td>0.075496</td>\n",
       "      <td>0.074376</td>\n",
       "      <td>0.133949</td>\n",
       "      <td>-0.132510</td>\n",
       "      <td>0.019815</td>\n",
       "      <td>0.005721</td>\n",
       "      <td>0.150828</td>\n",
       "      <td>0.061753</td>\n",
       "      <td>...</td>\n",
       "      <td>0.207242</td>\n",
       "      <td>1.000000</td>\n",
       "      <td>0.067373</td>\n",
       "      <td>-0.099638</td>\n",
       "      <td>0.074894</td>\n",
       "      <td>-0.071846</td>\n",
       "      <td>0.076610</td>\n",
       "      <td>0.018388</td>\n",
       "      <td>0.017172</td>\n",
       "      <td>0.069266</td>\n",
       "    </tr>\n",
       "    <tr>\n",
       "      <th>WorkAtHome</th>\n",
       "      <td>0.050583</td>\n",
       "      <td>-0.032980</td>\n",
       "      <td>-0.032611</td>\n",
       "      <td>-0.033327</td>\n",
       "      <td>-0.044228</td>\n",
       "      <td>0.189183</td>\n",
       "      <td>-0.303460</td>\n",
       "      <td>0.181388</td>\n",
       "      <td>0.000357</td>\n",
       "      <td>0.041415</td>\n",
       "      <td>...</td>\n",
       "      <td>0.480573</td>\n",
       "      <td>0.067373</td>\n",
       "      <td>1.000000</td>\n",
       "      <td>-0.211714</td>\n",
       "      <td>-0.028216</td>\n",
       "      <td>-0.468153</td>\n",
       "      <td>0.111656</td>\n",
       "      <td>0.685850</td>\n",
       "      <td>0.384110</td>\n",
       "      <td>-0.296281</td>\n",
       "    </tr>\n",
       "    <tr>\n",
       "      <th>MeanCommute</th>\n",
       "      <td>-0.056535</td>\n",
       "      <td>0.165549</td>\n",
       "      <td>0.164514</td>\n",
       "      <td>0.166508</td>\n",
       "      <td>-0.118239</td>\n",
       "      <td>-0.030358</td>\n",
       "      <td>0.197957</td>\n",
       "      <td>-0.133089</td>\n",
       "      <td>0.119462</td>\n",
       "      <td>-0.021023</td>\n",
       "      <td>...</td>\n",
       "      <td>-0.397084</td>\n",
       "      <td>-0.099638</td>\n",
       "      <td>-0.211714</td>\n",
       "      <td>1.000000</td>\n",
       "      <td>0.164860</td>\n",
       "      <td>0.253646</td>\n",
       "      <td>-0.116615</td>\n",
       "      <td>-0.288860</td>\n",
       "      <td>-0.174111</td>\n",
       "      <td>0.318555</td>\n",
       "    </tr>\n",
       "    <tr>\n",
       "      <th>Employed</th>\n",
       "      <td>-0.051167</td>\n",
       "      <td>0.997713</td>\n",
       "      <td>0.997559</td>\n",
       "      <td>0.997635</td>\n",
       "      <td>0.181052</td>\n",
       "      <td>-0.237804</td>\n",
       "      <td>0.073364</td>\n",
       "      <td>-0.046098</td>\n",
       "      <td>0.521939</td>\n",
       "      <td>0.067128</td>\n",
       "      <td>...</td>\n",
       "      <td>-0.039447</td>\n",
       "      <td>0.074894</td>\n",
       "      <td>-0.028216</td>\n",
       "      <td>0.164860</td>\n",
       "      <td>1.000000</td>\n",
       "      <td>0.203698</td>\n",
       "      <td>-0.149408</td>\n",
       "      <td>-0.151267</td>\n",
       "      <td>-0.089112</td>\n",
       "      <td>0.038141</td>\n",
       "    </tr>\n",
       "    <tr>\n",
       "      <th>PrivateWork</th>\n",
       "      <td>-0.059562</td>\n",
       "      <td>0.199236</td>\n",
       "      <td>0.198271</td>\n",
       "      <td>0.200120</td>\n",
       "      <td>-0.076378</td>\n",
       "      <td>0.137901</td>\n",
       "      <td>0.045080</td>\n",
       "      <td>-0.393262</td>\n",
       "      <td>0.147020</td>\n",
       "      <td>-0.053394</td>\n",
       "      <td>...</td>\n",
       "      <td>-0.411406</td>\n",
       "      <td>-0.071846</td>\n",
       "      <td>-0.468153</td>\n",
       "      <td>0.253646</td>\n",
       "      <td>0.203698</td>\n",
       "      <td>1.000000</td>\n",
       "      <td>-0.839521</td>\n",
       "      <td>-0.592201</td>\n",
       "      <td>-0.344121</td>\n",
       "      <td>-0.012341</td>\n",
       "    </tr>\n",
       "    <tr>\n",
       "      <th>PublicWork</th>\n",
       "      <td>0.024759</td>\n",
       "      <td>-0.143309</td>\n",
       "      <td>-0.142344</td>\n",
       "      <td>-0.144206</td>\n",
       "      <td>0.117025</td>\n",
       "      <td>-0.334550</td>\n",
       "      <td>0.151916</td>\n",
       "      <td>0.431504</td>\n",
       "      <td>-0.071544</td>\n",
       "      <td>0.068380</td>\n",
       "      <td>...</td>\n",
       "      <td>0.210789</td>\n",
       "      <td>0.076610</td>\n",
       "      <td>0.111656</td>\n",
       "      <td>-0.116615</td>\n",
       "      <td>-0.149408</td>\n",
       "      <td>-0.839521</td>\n",
       "      <td>1.000000</td>\n",
       "      <td>0.062970</td>\n",
       "      <td>0.100627</td>\n",
       "      <td>0.250507</td>\n",
       "    </tr>\n",
       "    <tr>\n",
       "      <th>SelfEmployed</th>\n",
       "      <td>0.073755</td>\n",
       "      <td>-0.152067</td>\n",
       "      <td>-0.151716</td>\n",
       "      <td>-0.152371</td>\n",
       "      <td>-0.030436</td>\n",
       "      <td>0.239317</td>\n",
       "      <td>-0.305194</td>\n",
       "      <td>0.079912</td>\n",
       "      <td>-0.161563</td>\n",
       "      <td>-0.004524</td>\n",
       "      <td>...</td>\n",
       "      <td>0.430690</td>\n",
       "      <td>0.018388</td>\n",
       "      <td>0.685850</td>\n",
       "      <td>-0.288860</td>\n",
       "      <td>-0.151267</td>\n",
       "      <td>-0.592201</td>\n",
       "      <td>0.062970</td>\n",
       "      <td>1.000000</td>\n",
       "      <td>0.391413</td>\n",
       "      <td>-0.347818</td>\n",
       "    </tr>\n",
       "    <tr>\n",
       "      <th>FamilyWork</th>\n",
       "      <td>0.023768</td>\n",
       "      <td>-0.089132</td>\n",
       "      <td>-0.088972</td>\n",
       "      <td>-0.089266</td>\n",
       "      <td>-0.024692</td>\n",
       "      <td>0.098657</td>\n",
       "      <td>-0.141881</td>\n",
       "      <td>0.102056</td>\n",
       "      <td>-0.097099</td>\n",
       "      <td>0.013442</td>\n",
       "      <td>...</td>\n",
       "      <td>0.318117</td>\n",
       "      <td>0.017172</td>\n",
       "      <td>0.384110</td>\n",
       "      <td>-0.174111</td>\n",
       "      <td>-0.089112</td>\n",
       "      <td>-0.344121</td>\n",
       "      <td>0.100627</td>\n",
       "      <td>0.391413</td>\n",
       "      <td>1.000000</td>\n",
       "      <td>-0.134378</td>\n",
       "    </tr>\n",
       "    <tr>\n",
       "      <th>Unemployment</th>\n",
       "      <td>-0.170083</td>\n",
       "      <td>0.053326</td>\n",
       "      <td>0.052678</td>\n",
       "      <td>0.053938</td>\n",
       "      <td>0.016275</td>\n",
       "      <td>-0.427071</td>\n",
       "      <td>0.480800</td>\n",
       "      <td>0.203247</td>\n",
       "      <td>-0.001776</td>\n",
       "      <td>-0.000594</td>\n",
       "      <td>...</td>\n",
       "      <td>-0.224150</td>\n",
       "      <td>0.069266</td>\n",
       "      <td>-0.296281</td>\n",
       "      <td>0.318555</td>\n",
       "      <td>0.038141</td>\n",
       "      <td>-0.012341</td>\n",
       "      <td>0.250507</td>\n",
       "      <td>-0.347818</td>\n",
       "      <td>-0.134378</td>\n",
       "      <td>1.000000</td>\n",
       "    </tr>\n",
       "  </tbody>\n",
       "</table>\n",
       "<p>35 rows × 35 columns</p>\n",
       "</div>"
      ],
      "text/plain": [
       "                 CensusId  TotalPop       Men     Women  Hispanic     White  \\\n",
       "CensusId         1.000000 -0.056337 -0.056535 -0.056135  0.113338  0.043834   \n",
       "TotalPop        -0.056337  1.000000  0.999879  0.999888  0.190037 -0.246397   \n",
       "Men             -0.056535  0.999879  1.000000  0.999535  0.191334 -0.245710   \n",
       "Women           -0.056135  0.999888  0.999535  1.000000  0.188745 -0.247003   \n",
       "Hispanic         0.113338  0.190037  0.191334  0.188745  1.000000 -0.625136   \n",
       "White            0.043834 -0.246397 -0.245710 -0.247003 -0.625136  1.000000   \n",
       "Black           -0.199555  0.078302  0.075692  0.080798 -0.105882 -0.611512   \n",
       "Native           0.088000 -0.044295 -0.044155 -0.044419 -0.035811 -0.247796   \n",
       "Asian           -0.085494  0.507251  0.508409  0.506019  0.151532 -0.261344   \n",
       "Pacific         -0.030727  0.068749  0.070776  0.066782  0.041895 -0.103648   \n",
       "Citizen         -0.056712  0.996383  0.995828  0.996689  0.176235 -0.241900   \n",
       "Income           0.070067  0.255062  0.255755  0.254337  0.045840  0.154070   \n",
       "IncomeErr        0.069922 -0.271096 -0.270574 -0.271537  0.096843  0.040840   \n",
       "IncomePerCap     0.065025  0.259262  0.258200  0.260226 -0.052499  0.236054   \n",
       "IncomePerCapErr  0.077708 -0.241051 -0.240757 -0.241279  0.073184  0.062702   \n",
       "Poverty         -0.107959 -0.057260 -0.057995 -0.056540  0.086578 -0.485884   \n",
       "ChildPoverty    -0.104773 -0.051497 -0.052443 -0.050574  0.078561 -0.463414   \n",
       "Professional     0.032931  0.255105  0.253711  0.256389 -0.093761  0.083650   \n",
       "Service         -0.006331  0.008675  0.008899  0.008457  0.175781 -0.291917   \n",
       "Office          -0.062151  0.203686  0.202932  0.204366 -0.019110 -0.054483   \n",
       "Construction     0.094843 -0.272734 -0.270980 -0.274361  0.248350 -0.017621   \n",
       "Production      -0.068438 -0.193224 -0.192723 -0.193661 -0.181264  0.133526   \n",
       "Drive           -0.013700 -0.130085 -0.127918 -0.132142 -0.146295  0.060260   \n",
       "Carpool         -0.025735 -0.088598 -0.086918 -0.090196  0.239126 -0.192667   \n",
       "Transit         -0.018056  0.414223  0.407892  0.420227  0.113699 -0.202123   \n",
       "Walk             0.060048 -0.045665 -0.046328 -0.045016 -0.020922  0.115555   \n",
       "OtherTransp     -0.089473  0.074934  0.075496  0.074376  0.133949 -0.132510   \n",
       "WorkAtHome       0.050583 -0.032980 -0.032611 -0.033327 -0.044228  0.189183   \n",
       "MeanCommute     -0.056535  0.165549  0.164514  0.166508 -0.118239 -0.030358   \n",
       "Employed        -0.051167  0.997713  0.997559  0.997635  0.181052 -0.237804   \n",
       "PrivateWork     -0.059562  0.199236  0.198271  0.200120 -0.076378  0.137901   \n",
       "PublicWork       0.024759 -0.143309 -0.142344 -0.144206  0.117025 -0.334550   \n",
       "SelfEmployed     0.073755 -0.152067 -0.151716 -0.152371 -0.030436  0.239317   \n",
       "FamilyWork       0.023768 -0.089132 -0.088972 -0.089266 -0.024692  0.098657   \n",
       "Unemployment    -0.170083  0.053326  0.052678  0.053938  0.016275 -0.427071   \n",
       "\n",
       "                    Black    Native     Asian   Pacific  ...      Walk  \\\n",
       "CensusId        -0.199555  0.088000 -0.085494 -0.030727  ...  0.060048   \n",
       "TotalPop         0.078302 -0.044295  0.507251  0.068749  ... -0.045665   \n",
       "Men              0.075692 -0.044155  0.508409  0.070776  ... -0.046328   \n",
       "Women            0.080798 -0.044419  0.506019  0.066782  ... -0.045016   \n",
       "Hispanic        -0.105882 -0.035811  0.151532  0.041895  ... -0.020922   \n",
       "White           -0.611512 -0.247796 -0.261344 -0.103648  ...  0.115555   \n",
       "Black            1.000000 -0.093559  0.024850 -0.049214  ... -0.206714   \n",
       "Native          -0.093559  1.000000 -0.047877  0.029145  ...  0.132803   \n",
       "Asian            0.024850 -0.047877  1.000000  0.431711  ...  0.030013   \n",
       "Pacific         -0.049214  0.029145  0.431711  1.000000  ...  0.044977   \n",
       "Citizen          0.084153 -0.047987  0.518234  0.071268  ... -0.048945   \n",
       "Income          -0.295634 -0.100354  0.426367  0.066779  ...  0.012477   \n",
       "IncomeErr       -0.098564  0.018119 -0.245172 -0.021162  ...  0.273599   \n",
       "IncomePerCap    -0.282319 -0.151174  0.395889  0.025725  ...  0.137142   \n",
       "IncomePerCapErr -0.094714 -0.014689 -0.228087 -0.041728  ...  0.287216   \n",
       "Poverty          0.494973  0.255709 -0.127903 -0.019332  ... -0.076737   \n",
       "ChildPoverty     0.503969  0.199543 -0.157108 -0.032290  ... -0.159546   \n",
       "Professional    -0.143479  0.079066  0.395672  0.026421  ...  0.295257   \n",
       "Service          0.155942  0.147782 -0.007137  0.094258  ...  0.065200   \n",
       "Office           0.107969 -0.110537  0.154788  0.025385  ... -0.285432   \n",
       "Construction    -0.157132  0.025186 -0.330983 -0.015699  ...  0.144010   \n",
       "Production       0.117261 -0.136641 -0.267135 -0.089895  ... -0.314335   \n",
       "Drive            0.172969 -0.153651 -0.220079 -0.090472  ... -0.706713   \n",
       "Carpool          0.027692  0.044367 -0.079687  0.058120  ... -0.080979   \n",
       "Transit          0.083796 -0.011246  0.475416  0.039192  ...  0.177599   \n",
       "Walk            -0.206714  0.132803  0.030013  0.044977  ...  1.000000   \n",
       "OtherTransp      0.019815  0.005721  0.150828  0.061753  ...  0.207242   \n",
       "WorkAtHome      -0.303460  0.181388  0.000357  0.041415  ...  0.480573   \n",
       "MeanCommute      0.197957 -0.133089  0.119462 -0.021023  ... -0.397084   \n",
       "Employed         0.073364 -0.046098  0.521939  0.067128  ... -0.039447   \n",
       "PrivateWork      0.045080 -0.393262  0.147020 -0.053394  ... -0.411406   \n",
       "PublicWork       0.151916  0.431504 -0.071544  0.068380  ...  0.210789   \n",
       "SelfEmployed    -0.305194  0.079912 -0.161563 -0.004524  ...  0.430690   \n",
       "FamilyWork      -0.141881  0.102056 -0.097099  0.013442  ...  0.318117   \n",
       "Unemployment     0.480800  0.203247 -0.001776 -0.000594  ... -0.224150   \n",
       "\n",
       "                 OtherTransp  WorkAtHome  MeanCommute  Employed  PrivateWork  \\\n",
       "CensusId           -0.089473    0.050583    -0.056535 -0.051167    -0.059562   \n",
       "TotalPop            0.074934   -0.032980     0.165549  0.997713     0.199236   \n",
       "Men                 0.075496   -0.032611     0.164514  0.997559     0.198271   \n",
       "Women               0.074376   -0.033327     0.166508  0.997635     0.200120   \n",
       "Hispanic            0.133949   -0.044228    -0.118239  0.181052    -0.076378   \n",
       "White              -0.132510    0.189183    -0.030358 -0.237804     0.137901   \n",
       "Black               0.019815   -0.303460     0.197957  0.073364     0.045080   \n",
       "Native              0.005721    0.181388    -0.133089 -0.046098    -0.393262   \n",
       "Asian               0.150828    0.000357     0.119462  0.521939     0.147020   \n",
       "Pacific             0.061753    0.041415    -0.021023  0.067128    -0.053394   \n",
       "Citizen             0.076015   -0.036916     0.169633  0.995315     0.215462   \n",
       "Income             -0.005554    0.160907     0.109274  0.276271     0.253631   \n",
       "IncomeErr           0.000835    0.281278    -0.159450 -0.269284    -0.437457   \n",
       "IncomePerCap        0.040921    0.273447     0.003631  0.284360     0.185431   \n",
       "IncomePerCapErr     0.006520    0.350054    -0.209325 -0.239047    -0.442236   \n",
       "Poverty             0.087353   -0.245542     0.056499 -0.073106    -0.202504   \n",
       "ChildPoverty        0.038212   -0.270226     0.102668 -0.067935    -0.124997   \n",
       "Professional        0.064752    0.412692    -0.127069  0.275965    -0.193463   \n",
       "Service             0.112490   -0.119788    -0.048007 -0.005037    -0.205192   \n",
       "Office              0.013357   -0.238776     0.143787  0.199771     0.359554   \n",
       "Construction       -0.004116    0.153655    -0.038164 -0.280411    -0.319020   \n",
       "Production         -0.145215   -0.360193     0.118693 -0.199629     0.379931   \n",
       "Drive              -0.372022   -0.632124     0.146973 -0.136516     0.394832   \n",
       "Carpool             0.047607   -0.111064     0.085439 -0.096398    -0.088551   \n",
       "Transit             0.152018    0.003121     0.201194  0.425262     0.089487   \n",
       "Walk                0.207242    0.480573    -0.397084 -0.039447    -0.411406   \n",
       "OtherTransp         1.000000    0.067373    -0.099638  0.074894    -0.071846   \n",
       "WorkAtHome          0.067373    1.000000    -0.211714 -0.028216    -0.468153   \n",
       "MeanCommute        -0.099638   -0.211714     1.000000  0.164860     0.253646   \n",
       "Employed            0.074894   -0.028216     0.164860  1.000000     0.203698   \n",
       "PrivateWork        -0.071846   -0.468153     0.253646  0.203698     1.000000   \n",
       "PublicWork          0.076610    0.111656    -0.116615 -0.149408    -0.839521   \n",
       "SelfEmployed        0.018388    0.685850    -0.288860 -0.151267    -0.592201   \n",
       "FamilyWork          0.017172    0.384110    -0.174111 -0.089112    -0.344121   \n",
       "Unemployment        0.069266   -0.296281     0.318555  0.038141    -0.012341   \n",
       "\n",
       "                 PublicWork  SelfEmployed  FamilyWork  Unemployment  \n",
       "CensusId           0.024759      0.073755    0.023768     -0.170083  \n",
       "TotalPop          -0.143309     -0.152067   -0.089132      0.053326  \n",
       "Men               -0.142344     -0.151716   -0.088972      0.052678  \n",
       "Women             -0.144206     -0.152371   -0.089266      0.053938  \n",
       "Hispanic           0.117025     -0.030436   -0.024692      0.016275  \n",
       "White             -0.334550      0.239317    0.098657     -0.427071  \n",
       "Black              0.151916     -0.305194   -0.141881      0.480800  \n",
       "Native             0.431504      0.079912    0.102056      0.203247  \n",
       "Asian             -0.071544     -0.161563   -0.097099     -0.001776  \n",
       "Pacific            0.068380     -0.004524    0.013442     -0.000594  \n",
       "Citizen           -0.152605     -0.168130   -0.096677      0.055021  \n",
       "Income            -0.274741     -0.056855   -0.067168     -0.455813  \n",
       "IncomeErr          0.259588      0.415778    0.231332     -0.207896  \n",
       "IncomePerCap      -0.304681      0.113827   -0.006208     -0.490906  \n",
       "IncomePerCapErr    0.214929      0.495476    0.220388     -0.243309  \n",
       "Poverty            0.366718     -0.172011   -0.035151      0.656026  \n",
       "ChildPoverty       0.271500     -0.171669   -0.058673      0.623892  \n",
       "Professional       0.096684      0.214539    0.082028     -0.330415  \n",
       "Service            0.358264     -0.150526   -0.062113      0.361353  \n",
       "Office            -0.202109     -0.358306   -0.196379      0.108366  \n",
       "Construction       0.149295      0.356823    0.239180     -0.096936  \n",
       "Production        -0.329631     -0.209836   -0.120934      0.148603  \n",
       "Drive             -0.175070     -0.458495   -0.281961      0.128728  \n",
       "Carpool            0.106777      0.007871   -0.013932      0.167046  \n",
       "Transit           -0.043508     -0.099090   -0.053128      0.040825  \n",
       "Walk               0.210789      0.430690    0.318117     -0.224150  \n",
       "OtherTransp        0.076610      0.018388    0.017172      0.069266  \n",
       "WorkAtHome         0.111656      0.685850    0.384110     -0.296281  \n",
       "MeanCommute       -0.116615     -0.288860   -0.174111      0.318555  \n",
       "Employed          -0.149408     -0.151267   -0.089112      0.038141  \n",
       "PrivateWork       -0.839521     -0.592201   -0.344121     -0.012341  \n",
       "PublicWork         1.000000      0.062970    0.100627      0.250507  \n",
       "SelfEmployed       0.062970      1.000000    0.391413     -0.347818  \n",
       "FamilyWork         0.100627      0.391413    1.000000     -0.134378  \n",
       "Unemployment       0.250507     -0.347818   -0.134378      1.000000  \n",
       "\n",
       "[35 rows x 35 columns]"
      ]
     },
     "execution_count": 15,
     "metadata": {},
     "output_type": "execute_result"
    }
   ],
   "source": [
    "corr_matrix = data1.corr()\n",
    "corr_matrix"
   ]
  },
  {
   "cell_type": "code",
   "execution_count": 16,
   "metadata": {},
   "outputs": [
    {
     "data": {
      "text/html": [
       "<div>\n",
       "<style scoped>\n",
       "    .dataframe tbody tr th:only-of-type {\n",
       "        vertical-align: middle;\n",
       "    }\n",
       "\n",
       "    .dataframe tbody tr th {\n",
       "        vertical-align: top;\n",
       "    }\n",
       "\n",
       "    .dataframe thead th {\n",
       "        text-align: right;\n",
       "    }\n",
       "</style>\n",
       "<table border=\"1\" class=\"dataframe\">\n",
       "  <thead>\n",
       "    <tr style=\"text-align: right;\">\n",
       "      <th></th>\n",
       "      <th>TotalPop</th>\n",
       "      <th>Men</th>\n",
       "      <th>Women</th>\n",
       "      <th>Hispanic</th>\n",
       "      <th>White</th>\n",
       "      <th>Black</th>\n",
       "      <th>Native</th>\n",
       "      <th>Asian</th>\n",
       "      <th>Pacific</th>\n",
       "      <th>Citizen</th>\n",
       "      <th>...</th>\n",
       "      <th>OtherTransp</th>\n",
       "      <th>WorkAtHome</th>\n",
       "      <th>MeanCommute</th>\n",
       "      <th>Employed</th>\n",
       "      <th>PrivateWork</th>\n",
       "      <th>PublicWork</th>\n",
       "      <th>SelfEmployed</th>\n",
       "      <th>FamilyWork</th>\n",
       "      <th>Unemployment</th>\n",
       "      <th>Party</th>\n",
       "    </tr>\n",
       "  </thead>\n",
       "  <tbody>\n",
       "    <tr>\n",
       "      <th>0</th>\n",
       "      <td>55221</td>\n",
       "      <td>26745</td>\n",
       "      <td>28476</td>\n",
       "      <td>2.6</td>\n",
       "      <td>75.8</td>\n",
       "      <td>18.5</td>\n",
       "      <td>0.4</td>\n",
       "      <td>1.0</td>\n",
       "      <td>0.0</td>\n",
       "      <td>40725</td>\n",
       "      <td>...</td>\n",
       "      <td>1.3</td>\n",
       "      <td>1.8</td>\n",
       "      <td>26.5</td>\n",
       "      <td>23986</td>\n",
       "      <td>73.6</td>\n",
       "      <td>20.9</td>\n",
       "      <td>5.5</td>\n",
       "      <td>0.0</td>\n",
       "      <td>7.6</td>\n",
       "      <td>republican</td>\n",
       "    </tr>\n",
       "    <tr>\n",
       "      <th>1</th>\n",
       "      <td>195121</td>\n",
       "      <td>95314</td>\n",
       "      <td>99807</td>\n",
       "      <td>4.5</td>\n",
       "      <td>83.1</td>\n",
       "      <td>9.5</td>\n",
       "      <td>0.6</td>\n",
       "      <td>0.7</td>\n",
       "      <td>0.0</td>\n",
       "      <td>147695</td>\n",
       "      <td>...</td>\n",
       "      <td>1.4</td>\n",
       "      <td>3.9</td>\n",
       "      <td>26.4</td>\n",
       "      <td>85953</td>\n",
       "      <td>81.5</td>\n",
       "      <td>12.3</td>\n",
       "      <td>5.8</td>\n",
       "      <td>0.4</td>\n",
       "      <td>7.5</td>\n",
       "      <td>republican</td>\n",
       "    </tr>\n",
       "    <tr>\n",
       "      <th>2</th>\n",
       "      <td>26932</td>\n",
       "      <td>14497</td>\n",
       "      <td>12435</td>\n",
       "      <td>4.6</td>\n",
       "      <td>46.2</td>\n",
       "      <td>46.7</td>\n",
       "      <td>0.2</td>\n",
       "      <td>0.4</td>\n",
       "      <td>0.0</td>\n",
       "      <td>20714</td>\n",
       "      <td>...</td>\n",
       "      <td>1.5</td>\n",
       "      <td>1.6</td>\n",
       "      <td>24.1</td>\n",
       "      <td>8597</td>\n",
       "      <td>71.8</td>\n",
       "      <td>20.8</td>\n",
       "      <td>7.3</td>\n",
       "      <td>0.1</td>\n",
       "      <td>17.6</td>\n",
       "      <td>republican</td>\n",
       "    </tr>\n",
       "    <tr>\n",
       "      <th>3</th>\n",
       "      <td>22604</td>\n",
       "      <td>12073</td>\n",
       "      <td>10531</td>\n",
       "      <td>2.2</td>\n",
       "      <td>74.5</td>\n",
       "      <td>21.4</td>\n",
       "      <td>0.4</td>\n",
       "      <td>0.1</td>\n",
       "      <td>0.0</td>\n",
       "      <td>17495</td>\n",
       "      <td>...</td>\n",
       "      <td>1.5</td>\n",
       "      <td>0.7</td>\n",
       "      <td>28.8</td>\n",
       "      <td>8294</td>\n",
       "      <td>76.8</td>\n",
       "      <td>16.1</td>\n",
       "      <td>6.7</td>\n",
       "      <td>0.4</td>\n",
       "      <td>8.3</td>\n",
       "      <td>republican</td>\n",
       "    </tr>\n",
       "    <tr>\n",
       "      <th>4</th>\n",
       "      <td>57710</td>\n",
       "      <td>28512</td>\n",
       "      <td>29198</td>\n",
       "      <td>8.6</td>\n",
       "      <td>87.9</td>\n",
       "      <td>1.5</td>\n",
       "      <td>0.3</td>\n",
       "      <td>0.1</td>\n",
       "      <td>0.0</td>\n",
       "      <td>42345</td>\n",
       "      <td>...</td>\n",
       "      <td>0.4</td>\n",
       "      <td>2.3</td>\n",
       "      <td>34.9</td>\n",
       "      <td>22189</td>\n",
       "      <td>82.0</td>\n",
       "      <td>13.5</td>\n",
       "      <td>4.2</td>\n",
       "      <td>0.4</td>\n",
       "      <td>7.7</td>\n",
       "      <td>republican</td>\n",
       "    </tr>\n",
       "    <tr>\n",
       "      <th>...</th>\n",
       "      <td>...</td>\n",
       "      <td>...</td>\n",
       "      <td>...</td>\n",
       "      <td>...</td>\n",
       "      <td>...</td>\n",
       "      <td>...</td>\n",
       "      <td>...</td>\n",
       "      <td>...</td>\n",
       "      <td>...</td>\n",
       "      <td>...</td>\n",
       "      <td>...</td>\n",
       "      <td>...</td>\n",
       "      <td>...</td>\n",
       "      <td>...</td>\n",
       "      <td>...</td>\n",
       "      <td>...</td>\n",
       "      <td>...</td>\n",
       "      <td>...</td>\n",
       "      <td>...</td>\n",
       "      <td>...</td>\n",
       "      <td>...</td>\n",
       "    </tr>\n",
       "    <tr>\n",
       "      <th>2975</th>\n",
       "      <td>44772</td>\n",
       "      <td>23359</td>\n",
       "      <td>21413</td>\n",
       "      <td>15.8</td>\n",
       "      <td>79.9</td>\n",
       "      <td>0.8</td>\n",
       "      <td>0.2</td>\n",
       "      <td>0.9</td>\n",
       "      <td>0.5</td>\n",
       "      <td>30965</td>\n",
       "      <td>...</td>\n",
       "      <td>0.9</td>\n",
       "      <td>1.6</td>\n",
       "      <td>21.0</td>\n",
       "      <td>23010</td>\n",
       "      <td>78.6</td>\n",
       "      <td>17.7</td>\n",
       "      <td>3.7</td>\n",
       "      <td>0.0</td>\n",
       "      <td>5.4</td>\n",
       "      <td>republican</td>\n",
       "    </tr>\n",
       "    <tr>\n",
       "      <th>2976</th>\n",
       "      <td>22311</td>\n",
       "      <td>11537</td>\n",
       "      <td>10774</td>\n",
       "      <td>15.1</td>\n",
       "      <td>81.2</td>\n",
       "      <td>0.2</td>\n",
       "      <td>0.4</td>\n",
       "      <td>1.9</td>\n",
       "      <td>0.0</td>\n",
       "      <td>16371</td>\n",
       "      <td>...</td>\n",
       "      <td>4.9</td>\n",
       "      <td>5.5</td>\n",
       "      <td>14.4</td>\n",
       "      <td>14298</td>\n",
       "      <td>81.3</td>\n",
       "      <td>11.2</td>\n",
       "      <td>7.5</td>\n",
       "      <td>0.0</td>\n",
       "      <td>2.6</td>\n",
       "      <td>republican</td>\n",
       "    </tr>\n",
       "    <tr>\n",
       "      <th>2977</th>\n",
       "      <td>20930</td>\n",
       "      <td>10636</td>\n",
       "      <td>10294</td>\n",
       "      <td>8.9</td>\n",
       "      <td>87.8</td>\n",
       "      <td>0.2</td>\n",
       "      <td>0.4</td>\n",
       "      <td>0.1</td>\n",
       "      <td>0.0</td>\n",
       "      <td>14357</td>\n",
       "      <td>...</td>\n",
       "      <td>1.6</td>\n",
       "      <td>3.0</td>\n",
       "      <td>20.4</td>\n",
       "      <td>10064</td>\n",
       "      <td>75.4</td>\n",
       "      <td>19.0</td>\n",
       "      <td>5.6</td>\n",
       "      <td>0.0</td>\n",
       "      <td>4.4</td>\n",
       "      <td>republican</td>\n",
       "    </tr>\n",
       "    <tr>\n",
       "      <th>2978</th>\n",
       "      <td>8400</td>\n",
       "      <td>4144</td>\n",
       "      <td>4256</td>\n",
       "      <td>14.0</td>\n",
       "      <td>82.4</td>\n",
       "      <td>0.7</td>\n",
       "      <td>0.3</td>\n",
       "      <td>0.2</td>\n",
       "      <td>0.0</td>\n",
       "      <td>6090</td>\n",
       "      <td>...</td>\n",
       "      <td>2.8</td>\n",
       "      <td>4.5</td>\n",
       "      <td>12.3</td>\n",
       "      <td>3892</td>\n",
       "      <td>70.5</td>\n",
       "      <td>21.5</td>\n",
       "      <td>7.6</td>\n",
       "      <td>0.5</td>\n",
       "      <td>6.8</td>\n",
       "      <td>republican</td>\n",
       "    </tr>\n",
       "    <tr>\n",
       "      <th>2979</th>\n",
       "      <td>7152</td>\n",
       "      <td>3695</td>\n",
       "      <td>3457</td>\n",
       "      <td>3.3</td>\n",
       "      <td>92.2</td>\n",
       "      <td>0.2</td>\n",
       "      <td>0.7</td>\n",
       "      <td>0.5</td>\n",
       "      <td>0.0</td>\n",
       "      <td>5582</td>\n",
       "      <td>...</td>\n",
       "      <td>1.2</td>\n",
       "      <td>5.5</td>\n",
       "      <td>29.1</td>\n",
       "      <td>3343</td>\n",
       "      <td>70.2</td>\n",
       "      <td>20.2</td>\n",
       "      <td>8.3</td>\n",
       "      <td>1.3</td>\n",
       "      <td>5.2</td>\n",
       "      <td>republican</td>\n",
       "    </tr>\n",
       "  </tbody>\n",
       "</table>\n",
       "<p>2973 rows × 35 columns</p>\n",
       "</div>"
      ],
      "text/plain": [
       "      TotalPop    Men  Women  Hispanic  White  Black  Native  Asian  Pacific  \\\n",
       "0        55221  26745  28476       2.6   75.8   18.5     0.4    1.0      0.0   \n",
       "1       195121  95314  99807       4.5   83.1    9.5     0.6    0.7      0.0   \n",
       "2        26932  14497  12435       4.6   46.2   46.7     0.2    0.4      0.0   \n",
       "3        22604  12073  10531       2.2   74.5   21.4     0.4    0.1      0.0   \n",
       "4        57710  28512  29198       8.6   87.9    1.5     0.3    0.1      0.0   \n",
       "...        ...    ...    ...       ...    ...    ...     ...    ...      ...   \n",
       "2975     44772  23359  21413      15.8   79.9    0.8     0.2    0.9      0.5   \n",
       "2976     22311  11537  10774      15.1   81.2    0.2     0.4    1.9      0.0   \n",
       "2977     20930  10636  10294       8.9   87.8    0.2     0.4    0.1      0.0   \n",
       "2978      8400   4144   4256      14.0   82.4    0.7     0.3    0.2      0.0   \n",
       "2979      7152   3695   3457       3.3   92.2    0.2     0.7    0.5      0.0   \n",
       "\n",
       "      Citizen  ...  OtherTransp  WorkAtHome  MeanCommute  Employed  \\\n",
       "0       40725  ...          1.3         1.8         26.5     23986   \n",
       "1      147695  ...          1.4         3.9         26.4     85953   \n",
       "2       20714  ...          1.5         1.6         24.1      8597   \n",
       "3       17495  ...          1.5         0.7         28.8      8294   \n",
       "4       42345  ...          0.4         2.3         34.9     22189   \n",
       "...       ...  ...          ...         ...          ...       ...   \n",
       "2975    30965  ...          0.9         1.6         21.0     23010   \n",
       "2976    16371  ...          4.9         5.5         14.4     14298   \n",
       "2977    14357  ...          1.6         3.0         20.4     10064   \n",
       "2978     6090  ...          2.8         4.5         12.3      3892   \n",
       "2979     5582  ...          1.2         5.5         29.1      3343   \n",
       "\n",
       "      PrivateWork  PublicWork  SelfEmployed  FamilyWork  Unemployment  \\\n",
       "0            73.6        20.9           5.5         0.0           7.6   \n",
       "1            81.5        12.3           5.8         0.4           7.5   \n",
       "2            71.8        20.8           7.3         0.1          17.6   \n",
       "3            76.8        16.1           6.7         0.4           8.3   \n",
       "4            82.0        13.5           4.2         0.4           7.7   \n",
       "...           ...         ...           ...         ...           ...   \n",
       "2975         78.6        17.7           3.7         0.0           5.4   \n",
       "2976         81.3        11.2           7.5         0.0           2.6   \n",
       "2977         75.4        19.0           5.6         0.0           4.4   \n",
       "2978         70.5        21.5           7.6         0.5           6.8   \n",
       "2979         70.2        20.2           8.3         1.3           5.2   \n",
       "\n",
       "           Party  \n",
       "0     republican  \n",
       "1     republican  \n",
       "2     republican  \n",
       "3     republican  \n",
       "4     republican  \n",
       "...          ...  \n",
       "2975  republican  \n",
       "2976  republican  \n",
       "2977  republican  \n",
       "2978  republican  \n",
       "2979  republican  \n",
       "\n",
       "[2973 rows x 35 columns]"
      ]
     },
     "execution_count": 16,
     "metadata": {},
     "output_type": "execute_result"
    }
   ],
   "source": [
    "data1 = data1.drop([\"CensusId\",\"State\",\"County\"], axis=1)\n",
    "data1"
   ]
  },
  {
   "cell_type": "code",
   "execution_count": 18,
   "metadata": {},
   "outputs": [],
   "source": [
    "data1.to_csv('Census & Political affiliation.csv')"
   ]
  },
  {
   "cell_type": "code",
   "execution_count": 19,
   "metadata": {},
   "outputs": [
    {
     "data": {
      "image/png": "[encoded data removed]",
      "text/plain": [
       "<Figure size 864x648 with 36 Axes>"
      ]
     },
     "metadata": {
      "needs_background": "light"
     },
     "output_type": "display_data"
    }
   ],
   "source": [
    "#PLotting each numerical variable to understand the pattern of each data\n",
    "%matplotlib inline   \n",
    "import matplotlib.pyplot as plt\n",
    "data1.hist(bins=50, figsize=(12,9))\n",
    "plt.show()"
   ]
  },
  {
   "cell_type": "code",
   "execution_count": 20,
   "metadata": {},
   "outputs": [
    {
     "data": {
      "text/plain": [
       "((1783, 35), (595, 35), (595, 35))"
      ]
     },
     "execution_count": 20,
     "metadata": {},
     "output_type": "execute_result"
    }
   ],
   "source": [
    "#Splitting entire dataset to train set, validation set & test set\n",
    "import numpy as np                                           \n",
    "np.random.seed(42)\n",
    "N = len(data1)\n",
    "shuffled_indices = np.random.permutation(N)\n",
    "    \n",
    "train_indices = shuffled_indices[:int(N*0.6)]\n",
    "valid_indices = shuffled_indices[int(N*0.6):int(N*0.8)]\n",
    "test_indices = shuffled_indices[int(N*0.8):]\n",
    "    \n",
    "train_set = data1.iloc[train_indices]\n",
    "valid_set = data1.iloc[valid_indices]\n",
    "test_set = data1.iloc[test_indices]\n",
    "    \n",
    "train_set.shape, valid_set.shape, test_set.shape\n",
    "    "
   ]
  },
  {
   "cell_type": "code",
   "execution_count": 21,
   "metadata": {},
   "outputs": [
    {
     "name": "stdout",
     "output_type": "stream",
     "text": [
      "For training set: \n",
      " (1783, 34) (1783,)\n",
      "\n",
      " \n",
      " For validation set: \n",
      " (595, 34) (595,)\n",
      "\n",
      " \n",
      " For test set: \n",
      " (595, 34) (595,)\n"
     ]
    }
   ],
   "source": [
    "#Preparing data for ML algo\n",
    "features = train_set.drop(\"Party\", axis=1)  #Separating labels & predictors for training set\n",
    "labels = train_set[\"Party\"].copy()\n",
    "print(\"For training set: \\n\" ,features.shape , labels.shape) \n",
    "\n",
    "#Preparing data for ML algo\n",
    "features_val = valid_set.drop(\"Party\", axis=1)  #Separating labels & predictors for validation set\n",
    "labels_val = valid_set[\"Party\"].copy()\n",
    "print(\"\\n \\n For validation set: \\n\" ,features_val.shape , labels_val.shape) \n",
    "\n",
    "#Preparing data for ML algo\n",
    "features_test = test_set.drop(\"Party\", axis=1)  #Separating labels & predictors for test set\n",
    "labels_test = test_set[\"Party\"].copy()\n",
    "print(\"\\n \\n For test set: \\n\" ,features_test.shape , labels_test.shape) \n"
   ]
  },
  {
   "cell_type": "markdown",
   "metadata": {},
   "source": [
    "# Baseline model"
   ]
  },
  {
   "cell_type": "code",
   "execution_count": 22,
   "metadata": {},
   "outputs": [],
   "source": [
    "#Training with all the features without any modifications (Baseline)"
   ]
  },
  {
   "cell_type": "code",
   "execution_count": 37,
   "metadata": {},
   "outputs": [],
   "source": [
    "import sklearn\n",
    "from sklearn.model_selection import cross_val_predict\n",
    "from sklearn.ensemble import RandomForestClassifier\n",
    "from sklearn.metrics import roc_auc_score\n",
    "from sklearn.preprocessing import StandardScaler\n",
    "import seaborn as sns\n",
    "from sklearn import metrics"
   ]
  },
  {
   "cell_type": "code",
   "execution_count": 80,
   "metadata": {},
   "outputs": [
    {
     "data": {
      "text/plain": [
       "0.6971689799515313"
      ]
     },
     "execution_count": 80,
     "metadata": {},
     "output_type": "execute_result"
    }
   ],
   "source": [
    "#Training & testing on train set\n",
    "forest_clf = RandomForestClassifier(random_state=42)\n",
    "forest_clf.fit(features, labels)\n",
    "y_probas_forest = cross_val_predict(forest_clf, features, labels, cv=10,\n",
    "                                    method=\"predict_proba\")\n",
    "y_scores_forest= y_probas_forest[:, 1] \n",
    "roc_auc_score(labels, y_scores_forest)"
   ]
  },
  {
   "cell_type": "code",
   "execution_count": 81,
   "metadata": {},
   "outputs": [
    {
     "data": {
      "text/plain": [
       "0.6807122949696167"
      ]
     },
     "execution_count": 81,
     "metadata": {},
     "output_type": "execute_result"
    }
   ],
   "source": [
    "#Training on train set & testing on validation set\n",
    "forest_clf.fit(features, labels)\n",
    "y_probas_forest = cross_val_predict(forest_clf, features_val, labels_val, cv=10,\n",
    "                                    method=\"predict_proba\")\n",
    "y_scores_forest = y_probas_forest[:, 1] \n",
    "roc_auc_score(labels_val, y_scores_forest)"
   ]
  },
  {
   "cell_type": "code",
   "execution_count": 82,
   "metadata": {},
   "outputs": [
    {
     "data": {
      "text/plain": [
       "((2378, 34), (2378,))"
      ]
     },
     "execution_count": 82,
     "metadata": {},
     "output_type": "execute_result"
    }
   ],
   "source": [
    "#Combine Train & Valid dataset\n",
    "tvt_x= features.append(features_val)\n",
    "tvt_y = labels.append(labels_val)\n",
    "\n",
    "\n",
    "tvt_x.shape , tvt_y.shape"
   ]
  },
  {
   "cell_type": "code",
   "execution_count": 83,
   "metadata": {},
   "outputs": [
    {
     "data": {
      "text/plain": [
       "0.7061321252736749"
      ]
     },
     "execution_count": 83,
     "metadata": {},
     "output_type": "execute_result"
    }
   ],
   "source": [
    "#Training on train + valid data, testing on valid data\n",
    "forest_clf.fit(tvt_x, tvt_y)\n",
    "y_probas_forest = cross_val_predict(forest_clf, tvt_x, tvt_y, cv=10,\n",
    "                                    method=\"predict_proba\")\n",
    "y_scores_forest = y_probas_forest[:, 1] \n",
    "roc_auc_score(tvt_y, y_scores_forest)"
   ]
  },
  {
   "cell_type": "markdown",
   "metadata": {},
   "source": [
    "# Baseline Test result"
   ]
  },
  {
   "cell_type": "code",
   "execution_count": 88,
   "metadata": {},
   "outputs": [
    {
     "data": {
      "text/plain": [
       "0.6953635031309677"
      ]
     },
     "execution_count": 88,
     "metadata": {},
     "output_type": "execute_result"
    }
   ],
   "source": [
    "#Testing on test set\n",
    "#ROC_AUC score\n",
    "\n",
    "Ypredict_1 = forest_clf.predict_proba(features_test)[:,1]  \n",
    "roc_auc_score(labels_test, Ypredict_1)"
   ]
  },
  {
   "cell_type": "code",
   "execution_count": 89,
   "metadata": {},
   "outputs": [
    {
     "data": {
      "text/plain": [
       "array([[  7,  82],\n",
       "       [  8, 498]], dtype=int64)"
      ]
     },
     "execution_count": 89,
     "metadata": {},
     "output_type": "execute_result"
    }
   ],
   "source": [
    "#Confusion matrix\n",
    "scaler = StandardScaler()\n",
    "X_train_scaled = scaler.fit_transform(features_test.astype(np.float64))\n",
    "y_train_pred = cross_val_predict(forest_clf, X_train_scaled, labels_test, cv=3)\n",
    "conf_mx = metrics.confusion_matrix(labels_test, y_train_pred)\n",
    "conf_mx\n"
   ]
  },
  {
   "cell_type": "code",
   "execution_count": 90,
   "metadata": {},
   "outputs": [
    {
     "data": {
      "image/png": "[encoded data removed]",
      "text/plain": [
       "<Figure size 648x648 with 2 Axes>"
      ]
     },
     "metadata": {
      "needs_background": "light"
     },
     "output_type": "display_data"
    }
   ],
   "source": [
    "#Plotting Confusion matrix\n",
    "plt.figure(figsize=(9,9))\n",
    "sns.heatmap(conf_mx, annot=True, fmt=\".3f\", linewidths=.5, square = True, cmap = 'Blues_r');\n",
    "plt.ylabel('Actual label');\n",
    "plt.xlabel('Predicted label');\n",
    "all_sample_title = 'Accuracy Score: {0}'\n",
    "plt.title(all_sample_title, size = 15);"
   ]
  },
  {
   "cell_type": "code",
   "execution_count": 115,
   "metadata": {},
   "outputs": [
    {
     "data": {
      "text/plain": [
       "0.8487394957983193"
      ]
     },
     "execution_count": 115,
     "metadata": {},
     "output_type": "execute_result"
    }
   ],
   "source": [
    "#Accuracy\n",
    "acc_b = metrics.accuracy_score(labels_test, y_train_pred)\n",
    "acc_b"
   ]
  },
  {
   "cell_type": "code",
   "execution_count": 116,
   "metadata": {},
   "outputs": [
    {
     "data": {
      "text/plain": [
       "(0.5314207043567083, 0.8487394957983193)"
      ]
     },
     "execution_count": 116,
     "metadata": {},
     "output_type": "execute_result"
    }
   ],
   "source": [
    "#Sensitivity(or Recall)\n",
    "rec_b_mac = metrics.recall_score(labels_test, y_train_pred, average='macro')\n",
    "rec_b_mic = metrics.recall_score(labels_test, y_train_pred, average='micro')\n",
    "rec_b_mac , rec_b_mic"
   ]
  },
  {
   "cell_type": "code",
   "execution_count": 117,
   "metadata": {},
   "outputs": [
    {
     "data": {
      "text/plain": [
       "(0.6626436781609195, 0.8487394957983193)"
      ]
     },
     "execution_count": 117,
     "metadata": {},
     "output_type": "execute_result"
    }
   ],
   "source": [
    "#Precision\n",
    "prec_b_mac = metrics.precision_score(labels_test, y_train_pred, average='macro')\n",
    "prec_b_mic = metrics.precision_score(labels_test, y_train_pred, average='micro')\n",
    "prec_b_mac , prec_b_mic"
   ]
  },
  {
   "cell_type": "code",
   "execution_count": 118,
   "metadata": {},
   "outputs": [
    {
     "data": {
      "text/plain": [
       "(0.5258712282192946, 0.8487394957983193)"
      ]
     },
     "execution_count": 118,
     "metadata": {},
     "output_type": "execute_result"
    }
   ],
   "source": [
    "#F-score \n",
    "F1_b_mac = metrics.f1_score(labels_test, y_train_pred, average='macro')\n",
    "F1_b_mic = metrics.f1_score(labels_test, y_train_pred, average='micro')\n",
    "F1_b_mac , F1_b_mic"
   ]
  },
  {
   "cell_type": "code",
   "execution_count": null,
   "metadata": {},
   "outputs": [],
   "source": []
  },
  {
   "cell_type": "markdown",
   "metadata": {},
   "source": [
    "# Model-I "
   ]
  },
  {
   "cell_type": "code",
   "execution_count": 49,
   "metadata": {},
   "outputs": [
    {
     "data": {
      "text/html": [
       "<div>\n",
       "<style scoped>\n",
       "    .dataframe tbody tr th:only-of-type {\n",
       "        vertical-align: middle;\n",
       "    }\n",
       "\n",
       "    .dataframe tbody tr th {\n",
       "        vertical-align: top;\n",
       "    }\n",
       "\n",
       "    .dataframe thead th {\n",
       "        text-align: right;\n",
       "    }\n",
       "</style>\n",
       "<table border=\"1\" class=\"dataframe\">\n",
       "  <thead>\n",
       "    <tr style=\"text-align: right;\">\n",
       "      <th></th>\n",
       "      <th>Transit</th>\n",
       "      <th>Employed</th>\n",
       "      <th>Construction</th>\n",
       "      <th>MeanCommute</th>\n",
       "      <th>Office</th>\n",
       "      <th>SelfEmployed</th>\n",
       "      <th>Carpool</th>\n",
       "      <th>Party</th>\n",
       "    </tr>\n",
       "  </thead>\n",
       "  <tbody>\n",
       "    <tr>\n",
       "      <th>0</th>\n",
       "      <td>0.1</td>\n",
       "      <td>23986</td>\n",
       "      <td>8.6</td>\n",
       "      <td>26.5</td>\n",
       "      <td>24.2</td>\n",
       "      <td>5.5</td>\n",
       "      <td>8.8</td>\n",
       "      <td>republican</td>\n",
       "    </tr>\n",
       "    <tr>\n",
       "      <th>1</th>\n",
       "      <td>0.1</td>\n",
       "      <td>85953</td>\n",
       "      <td>10.8</td>\n",
       "      <td>26.4</td>\n",
       "      <td>27.1</td>\n",
       "      <td>5.8</td>\n",
       "      <td>8.8</td>\n",
       "      <td>republican</td>\n",
       "    </tr>\n",
       "    <tr>\n",
       "      <th>2</th>\n",
       "      <td>0.4</td>\n",
       "      <td>8597</td>\n",
       "      <td>10.8</td>\n",
       "      <td>24.1</td>\n",
       "      <td>23.1</td>\n",
       "      <td>7.3</td>\n",
       "      <td>10.9</td>\n",
       "      <td>republican</td>\n",
       "    </tr>\n",
       "    <tr>\n",
       "      <th>3</th>\n",
       "      <td>0.5</td>\n",
       "      <td>8294</td>\n",
       "      <td>19.0</td>\n",
       "      <td>28.8</td>\n",
       "      <td>17.8</td>\n",
       "      <td>6.7</td>\n",
       "      <td>13.5</td>\n",
       "      <td>republican</td>\n",
       "    </tr>\n",
       "    <tr>\n",
       "      <th>4</th>\n",
       "      <td>0.4</td>\n",
       "      <td>22189</td>\n",
       "      <td>13.5</td>\n",
       "      <td>34.9</td>\n",
       "      <td>23.9</td>\n",
       "      <td>4.2</td>\n",
       "      <td>11.2</td>\n",
       "      <td>republican</td>\n",
       "    </tr>\n",
       "    <tr>\n",
       "      <th>...</th>\n",
       "      <td>...</td>\n",
       "      <td>...</td>\n",
       "      <td>...</td>\n",
       "      <td>...</td>\n",
       "      <td>...</td>\n",
       "      <td>...</td>\n",
       "      <td>...</td>\n",
       "      <td>...</td>\n",
       "    </tr>\n",
       "    <tr>\n",
       "      <th>2975</th>\n",
       "      <td>2.4</td>\n",
       "      <td>23010</td>\n",
       "      <td>23.1</td>\n",
       "      <td>21.0</td>\n",
       "      <td>20.6</td>\n",
       "      <td>3.7</td>\n",
       "      <td>15.4</td>\n",
       "      <td>republican</td>\n",
       "    </tr>\n",
       "    <tr>\n",
       "      <th>2976</th>\n",
       "      <td>7.8</td>\n",
       "      <td>14298</td>\n",
       "      <td>9.3</td>\n",
       "      <td>14.4</td>\n",
       "      <td>19.6</td>\n",
       "      <td>7.5</td>\n",
       "      <td>7.5</td>\n",
       "      <td>republican</td>\n",
       "    </tr>\n",
       "    <tr>\n",
       "      <th>2977</th>\n",
       "      <td>2.8</td>\n",
       "      <td>10064</td>\n",
       "      <td>16.7</td>\n",
       "      <td>20.4</td>\n",
       "      <td>19.1</td>\n",
       "      <td>5.6</td>\n",
       "      <td>12.7</td>\n",
       "      <td>republican</td>\n",
       "    </tr>\n",
       "    <tr>\n",
       "      <th>2978</th>\n",
       "      <td>0.0</td>\n",
       "      <td>3892</td>\n",
       "      <td>20.4</td>\n",
       "      <td>12.3</td>\n",
       "      <td>19.3</td>\n",
       "      <td>7.6</td>\n",
       "      <td>12.3</td>\n",
       "      <td>republican</td>\n",
       "    </tr>\n",
       "    <tr>\n",
       "      <th>2979</th>\n",
       "      <td>10.8</td>\n",
       "      <td>3343</td>\n",
       "      <td>22.7</td>\n",
       "      <td>29.1</td>\n",
       "      <td>14.1</td>\n",
       "      <td>8.3</td>\n",
       "      <td>11.5</td>\n",
       "      <td>republican</td>\n",
       "    </tr>\n",
       "  </tbody>\n",
       "</table>\n",
       "<p>2973 rows × 8 columns</p>\n",
       "</div>"
      ],
      "text/plain": [
       "      Transit  Employed  Construction  MeanCommute  Office  SelfEmployed  \\\n",
       "0         0.1     23986           8.6         26.5    24.2           5.5   \n",
       "1         0.1     85953          10.8         26.4    27.1           5.8   \n",
       "2         0.4      8597          10.8         24.1    23.1           7.3   \n",
       "3         0.5      8294          19.0         28.8    17.8           6.7   \n",
       "4         0.4     22189          13.5         34.9    23.9           4.2   \n",
       "...       ...       ...           ...          ...     ...           ...   \n",
       "2975      2.4     23010          23.1         21.0    20.6           3.7   \n",
       "2976      7.8     14298           9.3         14.4    19.6           7.5   \n",
       "2977      2.8     10064          16.7         20.4    19.1           5.6   \n",
       "2978      0.0      3892          20.4         12.3    19.3           7.6   \n",
       "2979     10.8      3343          22.7         29.1    14.1           8.3   \n",
       "\n",
       "      Carpool       Party  \n",
       "0         8.8  republican  \n",
       "1         8.8  republican  \n",
       "2        10.9  republican  \n",
       "3        13.5  republican  \n",
       "4        11.2  republican  \n",
       "...       ...         ...  \n",
       "2975     15.4  republican  \n",
       "2976      7.5  republican  \n",
       "2977     12.7  republican  \n",
       "2978     12.3  republican  \n",
       "2979     11.5  republican  \n",
       "\n",
       "[2973 rows x 8 columns]"
      ]
     },
     "execution_count": 49,
     "metadata": {},
     "output_type": "execute_result"
    }
   ],
   "source": [
    "data_m1 = pd.DataFrame()\n",
    "data_m1 = data1[['Transit','Employed','Construction','MeanCommute','Office','SelfEmployed','Carpool','Party']]\n",
    "data_m1"
   ]
  },
  {
   "cell_type": "code",
   "execution_count": 50,
   "metadata": {},
   "outputs": [
    {
     "data": {
      "text/plain": [
       "((1783, 8), (595, 8), (595, 8))"
      ]
     },
     "execution_count": 50,
     "metadata": {},
     "output_type": "execute_result"
    }
   ],
   "source": [
    "#Splitting entire dataset to train set, validation set & test set\n",
    "import numpy as np                                           \n",
    "np.random.seed(42)\n",
    "N = len(data_m1)\n",
    "shuffled_indices = np.random.permutation(N)\n",
    "    \n",
    "train_indices = shuffled_indices[:int(N*0.6)]\n",
    "valid_indices = shuffled_indices[int(N*0.6):int(N*0.8)]\n",
    "test_indices = shuffled_indices[int(N*0.8):]\n",
    "    \n",
    "train_set_m1 = data_m1.iloc[train_indices]\n",
    "valid_set_m1 = data_m1.iloc[valid_indices]\n",
    "test_set_m1 = data_m1.iloc[test_indices]\n",
    "    \n",
    "train_set_m1.shape, valid_set_m1.shape, test_set_m1.shape\n",
    "    "
   ]
  },
  {
   "cell_type": "code",
   "execution_count": 53,
   "metadata": {},
   "outputs": [
    {
     "name": "stdout",
     "output_type": "stream",
     "text": [
      "For training set: \n",
      " (1783, 7) (1783,)\n",
      "\n",
      " \n",
      " For validation set: \n",
      " (595, 7) (595,)\n",
      "\n",
      " \n",
      " For test set: \n",
      " (595, 7) (595,)\n"
     ]
    }
   ],
   "source": [
    "#Preparing data for ML algo\n",
    "features_m1 = train_set_m1.drop(\"Party\", axis=1)  #Separating labels & predictors for training set\n",
    "labels_m1 = train_set_m1[\"Party\"].copy()\n",
    "print(\"For training set: \\n\" ,features_m1.shape , labels_m1.shape) \n",
    "\n",
    "#Preparing data for ML algo\n",
    "features_val_m1 = valid_set_m1.drop(\"Party\", axis=1)  #Separating labels & predictors for validation set\n",
    "labels_val_m1 = valid_set_m1[\"Party\"].copy()\n",
    "print(\"\\n \\n For validation set: \\n\" ,features_val_m1.shape , labels_val_m1.shape) \n",
    "\n",
    "#Preparing data for ML algo\n",
    "features_test_m1 = test_set_m1.drop(\"Party\", axis=1)  #Separating labels & predictors for test set\n",
    "labels_test_m1 = test_set_m1[\"Party\"].copy()\n",
    "print(\"\\n \\n For test set: \\n\" ,features_test_m1.shape , labels_test_m1.shape) \n"
   ]
  },
  {
   "cell_type": "code",
   "execution_count": 58,
   "metadata": {},
   "outputs": [
    {
     "data": {
      "text/plain": [
       "0.6435901201928961"
      ]
     },
     "execution_count": 58,
     "metadata": {},
     "output_type": "execute_result"
    }
   ],
   "source": [
    "#Training & testing on train set\n",
    "forest_clf_m1 = RandomForestClassifier(random_state=42)\n",
    "forest_clf_m1.fit(features_m1, labels_m1)\n",
    "y_probas_forest = cross_val_predict(forest_clf_m1, features_m1, labels_m1, cv=10,\n",
    "                                    method=\"predict_proba\")\n",
    "y_scores_forest= y_probas_forest[:, 1] \n",
    "roc_auc_score(labels_m1, y_scores_forest)"
   ]
  },
  {
   "cell_type": "code",
   "execution_count": 62,
   "metadata": {},
   "outputs": [
    {
     "data": {
      "text/plain": [
       "0.6328071457943072"
      ]
     },
     "execution_count": 62,
     "metadata": {},
     "output_type": "execute_result"
    }
   ],
   "source": [
    "#Training on train set & testing on validation set\n",
    "forest_clf_m1.fit(features_m1, labels_m1)\n",
    "y_probas_forest = cross_val_predict(forest_clf_m1, features_val_m1, labels_val_m1, cv=10,\n",
    "                                    method=\"predict_proba\")\n",
    "y_scores_forest = y_probas_forest[:, 1] \n",
    "roc_auc_score(labels_val_m1, y_scores_forest)"
   ]
  },
  {
   "cell_type": "code",
   "execution_count": 63,
   "metadata": {},
   "outputs": [
    {
     "data": {
      "text/plain": [
       "((2378, 7), (2378,))"
      ]
     },
     "execution_count": 63,
     "metadata": {},
     "output_type": "execute_result"
    }
   ],
   "source": [
    "#Combine Train & Valid dataset\n",
    "tvt_x_m1= features_m1.append(features_val_m1)\n",
    "tvt_y_m1 = labels_m1.append(labels_val_m1)\n",
    "\n",
    "\n",
    "tvt_x_m1.shape , tvt_y_m1.shape"
   ]
  },
  {
   "cell_type": "code",
   "execution_count": 64,
   "metadata": {},
   "outputs": [
    {
     "data": {
      "text/plain": [
       "0.6270956278687249"
      ]
     },
     "execution_count": 64,
     "metadata": {},
     "output_type": "execute_result"
    }
   ],
   "source": [
    "#Training on train + valid data, testing on valid data\n",
    "forest_clf_m1.fit(tvt_x_m1, tvt_y_m1)\n",
    "y_probas_forest = cross_val_predict(forest_clf_m1, tvt_x_m1, tvt_y_m1, cv=10,\n",
    "                                    method=\"predict_proba\")\n",
    "y_scores_forest = y_probas_forest[:, 1] \n",
    "roc_auc_score(tvt_y_m1, y_scores_forest)"
   ]
  },
  {
   "cell_type": "code",
   "execution_count": 65,
   "metadata": {},
   "outputs": [
    {
     "data": {
      "text/plain": [
       "array([[  35,  321],\n",
       "       [  24, 1998]], dtype=int64)"
      ]
     },
     "execution_count": 65,
     "metadata": {},
     "output_type": "execute_result"
    }
   ],
   "source": [
    "#Confusion matrix\n",
    "scaler = StandardScaler()\n",
    "X_train_scaled_m1 = scaler.fit_transform(tvt_x_m1.astype(np.float64))\n",
    "y_train_pred_m1 = cross_val_predict(forest_clf_m1, X_train_scaled_m1, tvt_y_m1, cv=3)\n",
    "conf_mx_m1 = metrics.confusion_matrix(tvt_y_m1, y_train_pred_m1)\n",
    "conf_mx_m1"
   ]
  },
  {
   "cell_type": "code",
   "execution_count": 66,
   "metadata": {},
   "outputs": [
    {
     "data": {
      "image/png": "[encoded data removed]",
      "text/plain": [
       "<Figure size 648x648 with 2 Axes>"
      ]
     },
     "metadata": {
      "needs_background": "light"
     },
     "output_type": "display_data"
    }
   ],
   "source": [
    "#Plotting Confusion matrix\n",
    "plt.figure(figsize=(9,9))\n",
    "sns.heatmap(conf_mx_m1, annot=True, fmt=\".3f\", linewidths=.5, square = True, cmap = 'Blues_r');\n",
    "plt.ylabel('Actual label');\n",
    "plt.xlabel('Predicted label');\n",
    "all_sample_title = 'Accuracy Score: {0}'\n",
    "plt.title(all_sample_title, size = 15);"
   ]
  },
  {
   "cell_type": "code",
   "execution_count": 92,
   "metadata": {},
   "outputs": [
    {
     "data": {
      "text/plain": [
       "0.8549201009251471"
      ]
     },
     "execution_count": 92,
     "metadata": {},
     "output_type": "execute_result"
    }
   ],
   "source": [
    "#Accuracy\n",
    "acc_m1 = metrics.accuracy_score(tvt_y_m1, y_train_pred_m1)\n",
    "acc_m1"
   ]
  },
  {
   "cell_type": "code",
   "execution_count": 98,
   "metadata": {},
   "outputs": [
    {
     "data": {
      "text/plain": [
       "(0.5432225852698963, 0.8549201009251471)"
      ]
     },
     "execution_count": 98,
     "metadata": {},
     "output_type": "execute_result"
    }
   ],
   "source": [
    "#Sensitivity(or Recall)\n",
    "rec_m1_mac = metrics.recall_score(tvt_y_m1, y_train_pred_m1, average='macro')\n",
    "rec_m1_mic = metrics.recall_score(tvt_y_m1, y_train_pred_m1, average='micro')\n",
    "rec_m1_mac , rec_m1_mic"
   ]
  },
  {
   "cell_type": "code",
   "execution_count": 101,
   "metadata": {},
   "outputs": [
    {
     "data": {
      "text/plain": [
       "(0.7273993027386148, 0.8549201009251471)"
      ]
     },
     "execution_count": 101,
     "metadata": {},
     "output_type": "execute_result"
    }
   ],
   "source": [
    "#Precision\n",
    "prec_m1_mac = metrics.precision_score(tvt_y_m1, y_train_pred_m1, average='macro')\n",
    "prec_m1_mic = metrics.precision_score(tvt_y_m1, y_train_pred_m1, average='micro')\n",
    "prec_m1_mac , prec_m1_mic"
   ]
  },
  {
   "cell_type": "code",
   "execution_count": 104,
   "metadata": {},
   "outputs": [
    {
     "data": {
      "text/plain": [
       "(0.5445999616989036, 0.8549201009251471)"
      ]
     },
     "execution_count": 104,
     "metadata": {},
     "output_type": "execute_result"
    }
   ],
   "source": [
    "#F-score \n",
    "F1_m1_mac = metrics.f1_score(tvt_y_m1, y_train_pred_m1, average='macro')\n",
    "F1_m1_mic = metrics.f1_score(tvt_y_m1, y_train_pred_m1, average='micro')\n",
    "F1_m1_mac , F1_m1_mic"
   ]
  },
  {
   "cell_type": "markdown",
   "metadata": {},
   "source": [
    "# Model-II "
   ]
  },
  {
   "cell_type": "code",
   "execution_count": 47,
   "metadata": {},
   "outputs": [
    {
     "data": {
      "text/html": [
       "<div>\n",
       "<style scoped>\n",
       "    .dataframe tbody tr th:only-of-type {\n",
       "        vertical-align: middle;\n",
       "    }\n",
       "\n",
       "    .dataframe tbody tr th {\n",
       "        vertical-align: top;\n",
       "    }\n",
       "\n",
       "    .dataframe thead th {\n",
       "        text-align: right;\n",
       "    }\n",
       "</style>\n",
       "<table border=\"1\" class=\"dataframe\">\n",
       "  <thead>\n",
       "    <tr style=\"text-align: right;\">\n",
       "      <th></th>\n",
       "      <th>Transit</th>\n",
       "      <th>White</th>\n",
       "      <th>Asian</th>\n",
       "      <th>Citizen</th>\n",
       "      <th>Women</th>\n",
       "      <th>Employed</th>\n",
       "      <th>TotalPop</th>\n",
       "      <th>Men</th>\n",
       "      <th>Black</th>\n",
       "      <th>Construction</th>\n",
       "      <th>Pacific</th>\n",
       "      <th>IncomePerCap</th>\n",
       "      <th>Production</th>\n",
       "      <th>Party</th>\n",
       "    </tr>\n",
       "  </thead>\n",
       "  <tbody>\n",
       "    <tr>\n",
       "      <th>0</th>\n",
       "      <td>0.1</td>\n",
       "      <td>75.8</td>\n",
       "      <td>1.0</td>\n",
       "      <td>40725</td>\n",
       "      <td>28476</td>\n",
       "      <td>23986</td>\n",
       "      <td>55221</td>\n",
       "      <td>26745</td>\n",
       "      <td>18.5</td>\n",
       "      <td>8.6</td>\n",
       "      <td>0.0</td>\n",
       "      <td>24974</td>\n",
       "      <td>17.1</td>\n",
       "      <td>republican</td>\n",
       "    </tr>\n",
       "    <tr>\n",
       "      <th>1</th>\n",
       "      <td>0.1</td>\n",
       "      <td>83.1</td>\n",
       "      <td>0.7</td>\n",
       "      <td>147695</td>\n",
       "      <td>99807</td>\n",
       "      <td>85953</td>\n",
       "      <td>195121</td>\n",
       "      <td>95314</td>\n",
       "      <td>9.5</td>\n",
       "      <td>10.8</td>\n",
       "      <td>0.0</td>\n",
       "      <td>27317</td>\n",
       "      <td>11.2</td>\n",
       "      <td>republican</td>\n",
       "    </tr>\n",
       "    <tr>\n",
       "      <th>2</th>\n",
       "      <td>0.4</td>\n",
       "      <td>46.2</td>\n",
       "      <td>0.4</td>\n",
       "      <td>20714</td>\n",
       "      <td>12435</td>\n",
       "      <td>8597</td>\n",
       "      <td>26932</td>\n",
       "      <td>14497</td>\n",
       "      <td>46.7</td>\n",
       "      <td>10.8</td>\n",
       "      <td>0.0</td>\n",
       "      <td>16824</td>\n",
       "      <td>23.1</td>\n",
       "      <td>republican</td>\n",
       "    </tr>\n",
       "    <tr>\n",
       "      <th>3</th>\n",
       "      <td>0.5</td>\n",
       "      <td>74.5</td>\n",
       "      <td>0.1</td>\n",
       "      <td>17495</td>\n",
       "      <td>10531</td>\n",
       "      <td>8294</td>\n",
       "      <td>22604</td>\n",
       "      <td>12073</td>\n",
       "      <td>21.4</td>\n",
       "      <td>19.0</td>\n",
       "      <td>0.0</td>\n",
       "      <td>18431</td>\n",
       "      <td>23.7</td>\n",
       "      <td>republican</td>\n",
       "    </tr>\n",
       "    <tr>\n",
       "      <th>4</th>\n",
       "      <td>0.4</td>\n",
       "      <td>87.9</td>\n",
       "      <td>0.1</td>\n",
       "      <td>42345</td>\n",
       "      <td>29198</td>\n",
       "      <td>22189</td>\n",
       "      <td>57710</td>\n",
       "      <td>28512</td>\n",
       "      <td>1.5</td>\n",
       "      <td>13.5</td>\n",
       "      <td>0.0</td>\n",
       "      <td>20532</td>\n",
       "      <td>19.9</td>\n",
       "      <td>republican</td>\n",
       "    </tr>\n",
       "    <tr>\n",
       "      <th>...</th>\n",
       "      <td>...</td>\n",
       "      <td>...</td>\n",
       "      <td>...</td>\n",
       "      <td>...</td>\n",
       "      <td>...</td>\n",
       "      <td>...</td>\n",
       "      <td>...</td>\n",
       "      <td>...</td>\n",
       "      <td>...</td>\n",
       "      <td>...</td>\n",
       "      <td>...</td>\n",
       "      <td>...</td>\n",
       "      <td>...</td>\n",
       "      <td>...</td>\n",
       "    </tr>\n",
       "    <tr>\n",
       "      <th>2975</th>\n",
       "      <td>2.4</td>\n",
       "      <td>79.9</td>\n",
       "      <td>0.9</td>\n",
       "      <td>30965</td>\n",
       "      <td>21413</td>\n",
       "      <td>23010</td>\n",
       "      <td>44772</td>\n",
       "      <td>23359</td>\n",
       "      <td>0.8</td>\n",
       "      <td>23.1</td>\n",
       "      <td>0.5</td>\n",
       "      <td>30568</td>\n",
       "      <td>15.7</td>\n",
       "      <td>republican</td>\n",
       "    </tr>\n",
       "    <tr>\n",
       "      <th>2976</th>\n",
       "      <td>7.8</td>\n",
       "      <td>81.2</td>\n",
       "      <td>1.9</td>\n",
       "      <td>16371</td>\n",
       "      <td>10774</td>\n",
       "      <td>14298</td>\n",
       "      <td>22311</td>\n",
       "      <td>11537</td>\n",
       "      <td>0.2</td>\n",
       "      <td>9.3</td>\n",
       "      <td>0.0</td>\n",
       "      <td>44231</td>\n",
       "      <td>6.3</td>\n",
       "      <td>republican</td>\n",
       "    </tr>\n",
       "    <tr>\n",
       "      <th>2977</th>\n",
       "      <td>2.8</td>\n",
       "      <td>87.8</td>\n",
       "      <td>0.1</td>\n",
       "      <td>14357</td>\n",
       "      <td>10294</td>\n",
       "      <td>10064</td>\n",
       "      <td>20930</td>\n",
       "      <td>10636</td>\n",
       "      <td>0.2</td>\n",
       "      <td>16.7</td>\n",
       "      <td>0.0</td>\n",
       "      <td>25772</td>\n",
       "      <td>15.8</td>\n",
       "      <td>republican</td>\n",
       "    </tr>\n",
       "    <tr>\n",
       "      <th>2978</th>\n",
       "      <td>0.0</td>\n",
       "      <td>82.4</td>\n",
       "      <td>0.2</td>\n",
       "      <td>6090</td>\n",
       "      <td>4256</td>\n",
       "      <td>3892</td>\n",
       "      <td>8400</td>\n",
       "      <td>4144</td>\n",
       "      <td>0.7</td>\n",
       "      <td>20.4</td>\n",
       "      <td>0.0</td>\n",
       "      <td>27394</td>\n",
       "      <td>12.7</td>\n",
       "      <td>republican</td>\n",
       "    </tr>\n",
       "    <tr>\n",
       "      <th>2979</th>\n",
       "      <td>10.8</td>\n",
       "      <td>92.2</td>\n",
       "      <td>0.5</td>\n",
       "      <td>5582</td>\n",
       "      <td>3457</td>\n",
       "      <td>3343</td>\n",
       "      <td>7152</td>\n",
       "      <td>3695</td>\n",
       "      <td>0.2</td>\n",
       "      <td>22.7</td>\n",
       "      <td>0.0</td>\n",
       "      <td>30245</td>\n",
       "      <td>18.6</td>\n",
       "      <td>republican</td>\n",
       "    </tr>\n",
       "  </tbody>\n",
       "</table>\n",
       "<p>2973 rows × 14 columns</p>\n",
       "</div>"
      ],
      "text/plain": [
       "      Transit  White  Asian  Citizen  Women  Employed  TotalPop    Men  Black  \\\n",
       "0         0.1   75.8    1.0    40725  28476     23986     55221  26745   18.5   \n",
       "1         0.1   83.1    0.7   147695  99807     85953    195121  95314    9.5   \n",
       "2         0.4   46.2    0.4    20714  12435      8597     26932  14497   46.7   \n",
       "3         0.5   74.5    0.1    17495  10531      8294     22604  12073   21.4   \n",
       "4         0.4   87.9    0.1    42345  29198     22189     57710  28512    1.5   \n",
       "...       ...    ...    ...      ...    ...       ...       ...    ...    ...   \n",
       "2975      2.4   79.9    0.9    30965  21413     23010     44772  23359    0.8   \n",
       "2976      7.8   81.2    1.9    16371  10774     14298     22311  11537    0.2   \n",
       "2977      2.8   87.8    0.1    14357  10294     10064     20930  10636    0.2   \n",
       "2978      0.0   82.4    0.2     6090   4256      3892      8400   4144    0.7   \n",
       "2979     10.8   92.2    0.5     5582   3457      3343      7152   3695    0.2   \n",
       "\n",
       "      Construction  Pacific  IncomePerCap  Production       Party  \n",
       "0              8.6      0.0         24974        17.1  republican  \n",
       "1             10.8      0.0         27317        11.2  republican  \n",
       "2             10.8      0.0         16824        23.1  republican  \n",
       "3             19.0      0.0         18431        23.7  republican  \n",
       "4             13.5      0.0         20532        19.9  republican  \n",
       "...            ...      ...           ...         ...         ...  \n",
       "2975          23.1      0.5         30568        15.7  republican  \n",
       "2976           9.3      0.0         44231         6.3  republican  \n",
       "2977          16.7      0.0         25772        15.8  republican  \n",
       "2978          20.4      0.0         27394        12.7  republican  \n",
       "2979          22.7      0.0         30245        18.6  republican  \n",
       "\n",
       "[2973 rows x 14 columns]"
      ]
     },
     "execution_count": 47,
     "metadata": {},
     "output_type": "execute_result"
    }
   ],
   "source": [
    "data_m2 = pd.DataFrame()\n",
    "data_m2 = data1[['Transit','White','Asian','Citizen','Women','Employed','TotalPop','Men','Black','Construction',\n",
    "                 'Pacific','IncomePerCap','Production','Party']]\n",
    "data_m2"
   ]
  },
  {
   "cell_type": "code",
   "execution_count": 51,
   "metadata": {},
   "outputs": [
    {
     "data": {
      "text/plain": [
       "((1783, 14), (595, 14), (595, 14))"
      ]
     },
     "execution_count": 51,
     "metadata": {},
     "output_type": "execute_result"
    }
   ],
   "source": [
    "#Splitting entire dataset to train set, validation set & test set\n",
    "import numpy as np                                           \n",
    "np.random.seed(42)\n",
    "N = len(data_m2)\n",
    "shuffled_indices = np.random.permutation(N)\n",
    "    \n",
    "train_indices = shuffled_indices[:int(N*0.6)]\n",
    "valid_indices = shuffled_indices[int(N*0.6):int(N*0.8)]\n",
    "test_indices = shuffled_indices[int(N*0.8):]\n",
    "    \n",
    "train_set_m2 = data_m2.iloc[train_indices]\n",
    "valid_set_m2 = data_m2.iloc[valid_indices]\n",
    "test_set_m2 = data_m2.iloc[test_indices]\n",
    "    \n",
    "train_set_m2.shape, valid_set_m2.shape, test_set_m2.shape\n",
    "    "
   ]
  },
  {
   "cell_type": "code",
   "execution_count": 54,
   "metadata": {},
   "outputs": [
    {
     "name": "stdout",
     "output_type": "stream",
     "text": [
      "For training set: \n",
      " (1783, 13) (1783,)\n",
      "\n",
      " \n",
      " For validation set: \n",
      " (595, 13) (595,)\n",
      "\n",
      " \n",
      " For test set: \n",
      " (595, 13) (595,)\n"
     ]
    }
   ],
   "source": [
    "#Preparing data for ML algo\n",
    "features_m2 = train_set_m2.drop(\"Party\", axis=1)  #Separating labels & predictors for training set\n",
    "labels_m2 = train_set_m2[\"Party\"].copy()\n",
    "print(\"For training set: \\n\" ,features_m2.shape , labels_m2.shape) \n",
    "\n",
    "#Preparing data for ML algo\n",
    "features_val_m2 = valid_set_m2.drop(\"Party\", axis=1)  #Separating labels & predictors for validation set\n",
    "labels_val_m2 = valid_set_m2[\"Party\"].copy()\n",
    "print(\"\\n \\n For validation set: \\n\" ,features_val_m2.shape , labels_val_m2.shape) \n",
    "\n",
    "#Preparing data for ML algo\n",
    "features_test_m2 = test_set_m2.drop(\"Party\", axis=1)  #Separating labels & predictors for test set\n",
    "labels_test_m2 = test_set_m2[\"Party\"].copy()\n",
    "print(\"\\n \\n For test set: \\n\" ,features_test_m2.shape , labels_test_m2.shape) \n"
   ]
  },
  {
   "cell_type": "code",
   "execution_count": 67,
   "metadata": {},
   "outputs": [
    {
     "data": {
      "text/plain": [
       "0.6794925460821032"
      ]
     },
     "execution_count": 67,
     "metadata": {},
     "output_type": "execute_result"
    }
   ],
   "source": [
    "#Training & testing on train set\n",
    "forest_clf_m2 = RandomForestClassifier(random_state=42)\n",
    "forest_clf_m2.fit(features_m2, labels_m2)\n",
    "y_probas_forest = cross_val_predict(forest_clf_m2, features_m2, labels_m2, cv=10,\n",
    "                                    method=\"predict_proba\")\n",
    "y_scores_forest= y_probas_forest[:, 1] \n",
    "roc_auc_score(labels_m2, y_scores_forest)"
   ]
  },
  {
   "cell_type": "code",
   "execution_count": 68,
   "metadata": {},
   "outputs": [
    {
     "data": {
      "text/plain": [
       "0.669632658655823"
      ]
     },
     "execution_count": 68,
     "metadata": {},
     "output_type": "execute_result"
    }
   ],
   "source": [
    "#Training on train set & testing on validation set\n",
    "forest_clf_m2.fit(features_m2, labels_m2)\n",
    "y_probas_forest = cross_val_predict(forest_clf_m2, features_val_m2, labels_val_m2, cv=10,\n",
    "                                    method=\"predict_proba\")\n",
    "y_scores_forest = y_probas_forest[:, 1] \n",
    "roc_auc_score(labels_val_m2, y_scores_forest)"
   ]
  },
  {
   "cell_type": "code",
   "execution_count": 69,
   "metadata": {},
   "outputs": [
    {
     "data": {
      "text/plain": [
       "((2378, 13), (2378,))"
      ]
     },
     "execution_count": 69,
     "metadata": {},
     "output_type": "execute_result"
    }
   ],
   "source": [
    "#Combine Train & Valid dataset\n",
    "tvt_x_m2= features_m2.append(features_val_m2)\n",
    "tvt_y_m2 = labels_m2.append(labels_val_m2)\n",
    "\n",
    "\n",
    "tvt_x_m2.shape , tvt_y_m2.shape"
   ]
  },
  {
   "cell_type": "code",
   "execution_count": 70,
   "metadata": {},
   "outputs": [
    {
     "data": {
      "text/plain": [
       "0.6728069882972694"
      ]
     },
     "execution_count": 70,
     "metadata": {},
     "output_type": "execute_result"
    }
   ],
   "source": [
    "#Training on train + valid data, testing on valid data\n",
    "forest_clf_m2.fit(tvt_x_m2, tvt_y_m2)\n",
    "y_probas_forest = cross_val_predict(forest_clf_m2, tvt_x_m2, tvt_y_m2, cv=10,\n",
    "                                    method=\"predict_proba\")\n",
    "y_scores_forest = y_probas_forest[:, 1] \n",
    "roc_auc_score(tvt_y_m2, y_scores_forest)"
   ]
  },
  {
   "cell_type": "code",
   "execution_count": 71,
   "metadata": {},
   "outputs": [
    {
     "data": {
      "text/plain": [
       "array([[  43,  313],\n",
       "       [  36, 1986]], dtype=int64)"
      ]
     },
     "execution_count": 71,
     "metadata": {},
     "output_type": "execute_result"
    }
   ],
   "source": [
    "#Confusion matrix\n",
    "scaler = StandardScaler()\n",
    "X_train_scaled_m2 = scaler.fit_transform(tvt_x_m2.astype(np.float64))\n",
    "y_train_pred_m2 = cross_val_predict(forest_clf_m2, X_train_scaled_m2, tvt_y_m2, cv=3)\n",
    "conf_mx_m2 = metrics.confusion_matrix(tvt_y_m2, y_train_pred_m2)\n",
    "conf_mx_m2"
   ]
  },
  {
   "cell_type": "code",
   "execution_count": 72,
   "metadata": {},
   "outputs": [
    {
     "data": {
      "image/png": "[encoded data removed]",
      "text/plain": [
       "<Figure size 648x648 with 2 Axes>"
      ]
     },
     "metadata": {
      "needs_background": "light"
     },
     "output_type": "display_data"
    }
   ],
   "source": [
    "#Plotting Confusion matrix\n",
    "plt.figure(figsize=(9,9))\n",
    "sns.heatmap(conf_mx_m2, annot=True, fmt=\".3f\", linewidths=.5, square = True, cmap = 'Blues_r');\n",
    "plt.ylabel('Actual label');\n",
    "plt.xlabel('Predicted label');\n",
    "all_sample_title = 'Accuracy Score: {0}'\n",
    "plt.title(all_sample_title, size = 15);"
   ]
  },
  {
   "cell_type": "code",
   "execution_count": 93,
   "metadata": {},
   "outputs": [
    {
     "data": {
      "text/plain": [
       "0.8532380151387721"
      ]
     },
     "execution_count": 93,
     "metadata": {},
     "output_type": "execute_result"
    }
   ],
   "source": [
    "#Accuracy\n",
    "acc_m2 = metrics.accuracy_score(tvt_y_m2, y_train_pred_m2)\n",
    "acc_m2"
   ]
  },
  {
   "cell_type": "code",
   "execution_count": 100,
   "metadata": {},
   "outputs": [
    {
     "data": {
      "text/plain": [
       "(0.551491181275631, 0.8532380151387721)"
      ]
     },
     "execution_count": 100,
     "metadata": {},
     "output_type": "execute_result"
    }
   ],
   "source": [
    "#Sensitivity(or Recall)\n",
    "rec_m2_mac = metrics.recall_score(tvt_y_m2, y_train_pred_m2, average='macro')\n",
    "rec_m2_mic = metrics.recall_score(tvt_y_m2, y_train_pred_m2, average='micro')\n",
    "rec_m2_mac , rec_m2_mic"
   ]
  },
  {
   "cell_type": "code",
   "execution_count": 102,
   "metadata": {},
   "outputs": [
    {
     "data": {
      "text/plain": [
       "(0.7040788234840685, 0.8532380151387721)"
      ]
     },
     "execution_count": 102,
     "metadata": {},
     "output_type": "execute_result"
    }
   ],
   "source": [
    "#Precision\n",
    "prec_m2_mac = metrics.precision_score(tvt_y_m2, y_train_pred_m2, average='macro')\n",
    "prec_m2_mic = metrics.precision_score(tvt_y_m2, y_train_pred_m2, average='micro')\n",
    "prec_m2_mac , prec_m2_mic"
   ]
  },
  {
   "cell_type": "code",
   "execution_count": 105,
   "metadata": {},
   "outputs": [
    {
     "data": {
      "text/plain": [
       "(0.5584664043817018, 0.8532380151387721)"
      ]
     },
     "execution_count": 105,
     "metadata": {},
     "output_type": "execute_result"
    }
   ],
   "source": [
    "#F-score \n",
    "F1_m2_mac = metrics.f1_score(tvt_y_m2, y_train_pred_m2, average='macro')\n",
    "F1_m2_mic = metrics.f1_score(tvt_y_m2, y_train_pred_m2, average='micro')\n",
    "F1_m2_mac , F1_m2_mic"
   ]
  },
  {
   "cell_type": "markdown",
   "metadata": {},
   "source": [
    "# Model-III "
   ]
  },
  {
   "cell_type": "code",
   "execution_count": 48,
   "metadata": {},
   "outputs": [
    {
     "data": {
      "text/html": [
       "<div>\n",
       "<style scoped>\n",
       "    .dataframe tbody tr th:only-of-type {\n",
       "        vertical-align: middle;\n",
       "    }\n",
       "\n",
       "    .dataframe tbody tr th {\n",
       "        vertical-align: top;\n",
       "    }\n",
       "\n",
       "    .dataframe thead th {\n",
       "        text-align: right;\n",
       "    }\n",
       "</style>\n",
       "<table border=\"1\" class=\"dataframe\">\n",
       "  <thead>\n",
       "    <tr style=\"text-align: right;\">\n",
       "      <th></th>\n",
       "      <th>Asian</th>\n",
       "      <th>Transit</th>\n",
       "      <th>Pacific</th>\n",
       "      <th>SelfEmployed</th>\n",
       "      <th>FamilyWork</th>\n",
       "      <th>MeanCommute</th>\n",
       "      <th>Production</th>\n",
       "      <th>WorkAtHome</th>\n",
       "      <th>Carpool</th>\n",
       "      <th>Native</th>\n",
       "      <th>White</th>\n",
       "      <th>PrivateWork</th>\n",
       "      <th>Unemployment</th>\n",
       "      <th>Service</th>\n",
       "      <th>Hispanic</th>\n",
       "      <th>PublicWork</th>\n",
       "      <th>Income</th>\n",
       "      <th>Construction</th>\n",
       "      <th>Party</th>\n",
       "    </tr>\n",
       "  </thead>\n",
       "  <tbody>\n",
       "    <tr>\n",
       "      <th>0</th>\n",
       "      <td>1.0</td>\n",
       "      <td>0.1</td>\n",
       "      <td>0.0</td>\n",
       "      <td>5.5</td>\n",
       "      <td>0.0</td>\n",
       "      <td>26.5</td>\n",
       "      <td>17.1</td>\n",
       "      <td>1.8</td>\n",
       "      <td>8.8</td>\n",
       "      <td>0.4</td>\n",
       "      <td>75.8</td>\n",
       "      <td>73.6</td>\n",
       "      <td>7.6</td>\n",
       "      <td>17.0</td>\n",
       "      <td>2.6</td>\n",
       "      <td>20.9</td>\n",
       "      <td>51281.0</td>\n",
       "      <td>8.6</td>\n",
       "      <td>republican</td>\n",
       "    </tr>\n",
       "    <tr>\n",
       "      <th>1</th>\n",
       "      <td>0.7</td>\n",
       "      <td>0.1</td>\n",
       "      <td>0.0</td>\n",
       "      <td>5.8</td>\n",
       "      <td>0.4</td>\n",
       "      <td>26.4</td>\n",
       "      <td>11.2</td>\n",
       "      <td>3.9</td>\n",
       "      <td>8.8</td>\n",
       "      <td>0.6</td>\n",
       "      <td>83.1</td>\n",
       "      <td>81.5</td>\n",
       "      <td>7.5</td>\n",
       "      <td>17.7</td>\n",
       "      <td>4.5</td>\n",
       "      <td>12.3</td>\n",
       "      <td>50254.0</td>\n",
       "      <td>10.8</td>\n",
       "      <td>republican</td>\n",
       "    </tr>\n",
       "    <tr>\n",
       "      <th>2</th>\n",
       "      <td>0.4</td>\n",
       "      <td>0.4</td>\n",
       "      <td>0.0</td>\n",
       "      <td>7.3</td>\n",
       "      <td>0.1</td>\n",
       "      <td>24.1</td>\n",
       "      <td>23.1</td>\n",
       "      <td>1.6</td>\n",
       "      <td>10.9</td>\n",
       "      <td>0.2</td>\n",
       "      <td>46.2</td>\n",
       "      <td>71.8</td>\n",
       "      <td>17.6</td>\n",
       "      <td>16.1</td>\n",
       "      <td>4.6</td>\n",
       "      <td>20.8</td>\n",
       "      <td>32964.0</td>\n",
       "      <td>10.8</td>\n",
       "      <td>republican</td>\n",
       "    </tr>\n",
       "    <tr>\n",
       "      <th>3</th>\n",
       "      <td>0.1</td>\n",
       "      <td>0.5</td>\n",
       "      <td>0.0</td>\n",
       "      <td>6.7</td>\n",
       "      <td>0.4</td>\n",
       "      <td>28.8</td>\n",
       "      <td>23.7</td>\n",
       "      <td>0.7</td>\n",
       "      <td>13.5</td>\n",
       "      <td>0.4</td>\n",
       "      <td>74.5</td>\n",
       "      <td>76.8</td>\n",
       "      <td>8.3</td>\n",
       "      <td>17.9</td>\n",
       "      <td>2.2</td>\n",
       "      <td>16.1</td>\n",
       "      <td>38678.0</td>\n",
       "      <td>19.0</td>\n",
       "      <td>republican</td>\n",
       "    </tr>\n",
       "    <tr>\n",
       "      <th>4</th>\n",
       "      <td>0.1</td>\n",
       "      <td>0.4</td>\n",
       "      <td>0.0</td>\n",
       "      <td>4.2</td>\n",
       "      <td>0.4</td>\n",
       "      <td>34.9</td>\n",
       "      <td>19.9</td>\n",
       "      <td>2.3</td>\n",
       "      <td>11.2</td>\n",
       "      <td>0.3</td>\n",
       "      <td>87.9</td>\n",
       "      <td>82.0</td>\n",
       "      <td>7.7</td>\n",
       "      <td>14.1</td>\n",
       "      <td>8.6</td>\n",
       "      <td>13.5</td>\n",
       "      <td>45813.0</td>\n",
       "      <td>13.5</td>\n",
       "      <td>republican</td>\n",
       "    </tr>\n",
       "    <tr>\n",
       "      <th>...</th>\n",
       "      <td>...</td>\n",
       "      <td>...</td>\n",
       "      <td>...</td>\n",
       "      <td>...</td>\n",
       "      <td>...</td>\n",
       "      <td>...</td>\n",
       "      <td>...</td>\n",
       "      <td>...</td>\n",
       "      <td>...</td>\n",
       "      <td>...</td>\n",
       "      <td>...</td>\n",
       "      <td>...</td>\n",
       "      <td>...</td>\n",
       "      <td>...</td>\n",
       "      <td>...</td>\n",
       "      <td>...</td>\n",
       "      <td>...</td>\n",
       "      <td>...</td>\n",
       "      <td>...</td>\n",
       "    </tr>\n",
       "    <tr>\n",
       "      <th>2975</th>\n",
       "      <td>0.9</td>\n",
       "      <td>2.4</td>\n",
       "      <td>0.5</td>\n",
       "      <td>3.7</td>\n",
       "      <td>0.0</td>\n",
       "      <td>21.0</td>\n",
       "      <td>15.7</td>\n",
       "      <td>1.6</td>\n",
       "      <td>15.4</td>\n",
       "      <td>0.2</td>\n",
       "      <td>79.9</td>\n",
       "      <td>78.6</td>\n",
       "      <td>5.4</td>\n",
       "      <td>15.2</td>\n",
       "      <td>15.8</td>\n",
       "      <td>17.7</td>\n",
       "      <td>69022.0</td>\n",
       "      <td>23.1</td>\n",
       "      <td>republican</td>\n",
       "    </tr>\n",
       "    <tr>\n",
       "      <th>2976</th>\n",
       "      <td>1.9</td>\n",
       "      <td>7.8</td>\n",
       "      <td>0.0</td>\n",
       "      <td>7.5</td>\n",
       "      <td>0.0</td>\n",
       "      <td>14.4</td>\n",
       "      <td>6.3</td>\n",
       "      <td>5.5</td>\n",
       "      <td>7.5</td>\n",
       "      <td>0.4</td>\n",
       "      <td>81.2</td>\n",
       "      <td>81.3</td>\n",
       "      <td>2.6</td>\n",
       "      <td>25.7</td>\n",
       "      <td>15.1</td>\n",
       "      <td>11.2</td>\n",
       "      <td>75325.0</td>\n",
       "      <td>9.3</td>\n",
       "      <td>republican</td>\n",
       "    </tr>\n",
       "    <tr>\n",
       "      <th>2977</th>\n",
       "      <td>0.1</td>\n",
       "      <td>2.8</td>\n",
       "      <td>0.0</td>\n",
       "      <td>5.6</td>\n",
       "      <td>0.0</td>\n",
       "      <td>20.4</td>\n",
       "      <td>15.8</td>\n",
       "      <td>3.0</td>\n",
       "      <td>12.7</td>\n",
       "      <td>0.4</td>\n",
       "      <td>87.8</td>\n",
       "      <td>75.4</td>\n",
       "      <td>4.4</td>\n",
       "      <td>18.3</td>\n",
       "      <td>8.9</td>\n",
       "      <td>19.0</td>\n",
       "      <td>56569.0</td>\n",
       "      <td>16.7</td>\n",
       "      <td>republican</td>\n",
       "    </tr>\n",
       "    <tr>\n",
       "      <th>2978</th>\n",
       "      <td>0.2</td>\n",
       "      <td>0.0</td>\n",
       "      <td>0.0</td>\n",
       "      <td>7.6</td>\n",
       "      <td>0.5</td>\n",
       "      <td>12.3</td>\n",
       "      <td>12.7</td>\n",
       "      <td>4.5</td>\n",
       "      <td>12.3</td>\n",
       "      <td>0.3</td>\n",
       "      <td>82.4</td>\n",
       "      <td>70.5</td>\n",
       "      <td>6.8</td>\n",
       "      <td>18.2</td>\n",
       "      <td>14.0</td>\n",
       "      <td>21.5</td>\n",
       "      <td>47652.0</td>\n",
       "      <td>20.4</td>\n",
       "      <td>republican</td>\n",
       "    </tr>\n",
       "    <tr>\n",
       "      <th>2979</th>\n",
       "      <td>0.5</td>\n",
       "      <td>10.8</td>\n",
       "      <td>0.0</td>\n",
       "      <td>8.3</td>\n",
       "      <td>1.3</td>\n",
       "      <td>29.1</td>\n",
       "      <td>18.6</td>\n",
       "      <td>5.5</td>\n",
       "      <td>11.5</td>\n",
       "      <td>0.7</td>\n",
       "      <td>92.2</td>\n",
       "      <td>70.2</td>\n",
       "      <td>5.2</td>\n",
       "      <td>12.6</td>\n",
       "      <td>3.3</td>\n",
       "      <td>20.2</td>\n",
       "      <td>57738.0</td>\n",
       "      <td>22.7</td>\n",
       "      <td>republican</td>\n",
       "    </tr>\n",
       "  </tbody>\n",
       "</table>\n",
       "<p>2973 rows × 19 columns</p>\n",
       "</div>"
      ],
      "text/plain": [
       "      Asian  Transit  Pacific  SelfEmployed  FamilyWork  MeanCommute  \\\n",
       "0       1.0      0.1      0.0           5.5         0.0         26.5   \n",
       "1       0.7      0.1      0.0           5.8         0.4         26.4   \n",
       "2       0.4      0.4      0.0           7.3         0.1         24.1   \n",
       "3       0.1      0.5      0.0           6.7         0.4         28.8   \n",
       "4       0.1      0.4      0.0           4.2         0.4         34.9   \n",
       "...     ...      ...      ...           ...         ...          ...   \n",
       "2975    0.9      2.4      0.5           3.7         0.0         21.0   \n",
       "2976    1.9      7.8      0.0           7.5         0.0         14.4   \n",
       "2977    0.1      2.8      0.0           5.6         0.0         20.4   \n",
       "2978    0.2      0.0      0.0           7.6         0.5         12.3   \n",
       "2979    0.5     10.8      0.0           8.3         1.3         29.1   \n",
       "\n",
       "      Production  WorkAtHome  Carpool  Native  White  PrivateWork  \\\n",
       "0           17.1         1.8      8.8     0.4   75.8         73.6   \n",
       "1           11.2         3.9      8.8     0.6   83.1         81.5   \n",
       "2           23.1         1.6     10.9     0.2   46.2         71.8   \n",
       "3           23.7         0.7     13.5     0.4   74.5         76.8   \n",
       "4           19.9         2.3     11.2     0.3   87.9         82.0   \n",
       "...          ...         ...      ...     ...    ...          ...   \n",
       "2975        15.7         1.6     15.4     0.2   79.9         78.6   \n",
       "2976         6.3         5.5      7.5     0.4   81.2         81.3   \n",
       "2977        15.8         3.0     12.7     0.4   87.8         75.4   \n",
       "2978        12.7         4.5     12.3     0.3   82.4         70.5   \n",
       "2979        18.6         5.5     11.5     0.7   92.2         70.2   \n",
       "\n",
       "      Unemployment  Service  Hispanic  PublicWork   Income  Construction  \\\n",
       "0              7.6     17.0       2.6        20.9  51281.0           8.6   \n",
       "1              7.5     17.7       4.5        12.3  50254.0          10.8   \n",
       "2             17.6     16.1       4.6        20.8  32964.0          10.8   \n",
       "3              8.3     17.9       2.2        16.1  38678.0          19.0   \n",
       "4              7.7     14.1       8.6        13.5  45813.0          13.5   \n",
       "...            ...      ...       ...         ...      ...           ...   \n",
       "2975           5.4     15.2      15.8        17.7  69022.0          23.1   \n",
       "2976           2.6     25.7      15.1        11.2  75325.0           9.3   \n",
       "2977           4.4     18.3       8.9        19.0  56569.0          16.7   \n",
       "2978           6.8     18.2      14.0        21.5  47652.0          20.4   \n",
       "2979           5.2     12.6       3.3        20.2  57738.0          22.7   \n",
       "\n",
       "           Party  \n",
       "0     republican  \n",
       "1     republican  \n",
       "2     republican  \n",
       "3     republican  \n",
       "4     republican  \n",
       "...          ...  \n",
       "2975  republican  \n",
       "2976  republican  \n",
       "2977  republican  \n",
       "2978  republican  \n",
       "2979  republican  \n",
       "\n",
       "[2973 rows x 19 columns]"
      ]
     },
     "execution_count": 48,
     "metadata": {},
     "output_type": "execute_result"
    }
   ],
   "source": [
    "data_m3 = pd.DataFrame()\n",
    "data_m3 = data1[['Asian','Transit','Pacific','SelfEmployed','FamilyWork','MeanCommute','Production','WorkAtHome',\n",
    "                 'Carpool','Native','White','PrivateWork','Unemployment','Service','Hispanic','PublicWork','Income',\n",
    "                 'Construction','Party']]\n",
    "data_m3"
   ]
  },
  {
   "cell_type": "code",
   "execution_count": 52,
   "metadata": {},
   "outputs": [
    {
     "data": {
      "text/plain": [
       "((1783, 19), (595, 19), (595, 19))"
      ]
     },
     "execution_count": 52,
     "metadata": {},
     "output_type": "execute_result"
    }
   ],
   "source": [
    "#Splitting entire dataset to train set, validation set & test set\n",
    "import numpy as np                                           \n",
    "np.random.seed(42)\n",
    "N = len(data_m3)\n",
    "shuffled_indices = np.random.permutation(N)\n",
    "    \n",
    "train_indices = shuffled_indices[:int(N*0.6)]\n",
    "valid_indices = shuffled_indices[int(N*0.6):int(N*0.8)]\n",
    "test_indices = shuffled_indices[int(N*0.8):]\n",
    "    \n",
    "train_set_m3 = data_m3.iloc[train_indices]\n",
    "valid_set_m3 = data_m3.iloc[valid_indices]\n",
    "test_set_m3 = data_m3.iloc[test_indices]\n",
    "    \n",
    "train_set_m3.shape, valid_set_m3.shape, test_set_m3.shape\n",
    "    "
   ]
  },
  {
   "cell_type": "code",
   "execution_count": 55,
   "metadata": {},
   "outputs": [
    {
     "name": "stdout",
     "output_type": "stream",
     "text": [
      "For training set: \n",
      " (1783, 18) (1783,)\n",
      "\n",
      " \n",
      " For validation set: \n",
      " (595, 18) (595,)\n",
      "\n",
      " \n",
      " For test set: \n",
      " (595, 18) (595,)\n"
     ]
    }
   ],
   "source": [
    "#Preparing data for ML algo\n",
    "features_m3 = train_set_m3.drop(\"Party\", axis=1)  #Separating labels & predictors for training set\n",
    "labels_m3 = train_set_m3[\"Party\"].copy()\n",
    "print(\"For training set: \\n\" ,features_m3.shape , labels_m3.shape) \n",
    "\n",
    "#Preparing data for ML algo\n",
    "features_val_m3 = valid_set_m3.drop(\"Party\", axis=1)  #Separating labels & predictors for validation set\n",
    "labels_val_m3 = valid_set_m3[\"Party\"].copy()\n",
    "print(\"\\n \\n For validation set: \\n\" ,features_val_m3.shape , labels_val_m3.shape) \n",
    "\n",
    "#Preparing data for ML algo\n",
    "features_test_m3 = test_set_m3.drop(\"Party\", axis=1)  #Separating labels & predictors for test set\n",
    "labels_test_m3 = test_set_m3[\"Party\"].copy()\n",
    "print(\"\\n \\n For test set: \\n\" ,features_test_m3.shape , labels_test_m3.shape) \n"
   ]
  },
  {
   "cell_type": "code",
   "execution_count": 73,
   "metadata": {},
   "outputs": [
    {
     "data": {
      "text/plain": [
       "0.696940099385572"
      ]
     },
     "execution_count": 73,
     "metadata": {},
     "output_type": "execute_result"
    }
   ],
   "source": [
    "#Training & testing on train set\n",
    "forest_clf_m3 = RandomForestClassifier(random_state=42)\n",
    "forest_clf_m3.fit(features_m3, labels_m3)\n",
    "y_probas_forest = cross_val_predict(forest_clf_m3, features_m3, labels_m3, cv=10,\n",
    "                                    method=\"predict_proba\")\n",
    "y_scores_forest= y_probas_forest[:, 1] \n",
    "roc_auc_score(labels_m3, y_scores_forest)"
   ]
  },
  {
   "cell_type": "code",
   "execution_count": 74,
   "metadata": {},
   "outputs": [
    {
     "data": {
      "text/plain": [
       "0.6761776396947959"
      ]
     },
     "execution_count": 74,
     "metadata": {},
     "output_type": "execute_result"
    }
   ],
   "source": [
    "#Training on train set & testing on validation set\n",
    "forest_clf_m3.fit(features_m3, labels_m3)\n",
    "y_probas_forest = cross_val_predict(forest_clf_m3, features_val_m3, labels_val_m3, cv=10,\n",
    "                                    method=\"predict_proba\")\n",
    "y_scores_forest = y_probas_forest[:, 1] \n",
    "roc_auc_score(labels_val_m3, y_scores_forest)"
   ]
  },
  {
   "cell_type": "code",
   "execution_count": 76,
   "metadata": {},
   "outputs": [
    {
     "data": {
      "text/plain": [
       "((2378, 18), (2378,))"
      ]
     },
     "execution_count": 76,
     "metadata": {},
     "output_type": "execute_result"
    }
   ],
   "source": [
    "#Combine Train & Valid dataset\n",
    "tvt_x_m3= features_m3.append(features_val_m3)\n",
    "tvt_y_m3 = labels_m3.append(labels_val_m3)\n",
    "\n",
    "\n",
    "tvt_x_m3.shape , tvt_y_m3.shape"
   ]
  },
  {
   "cell_type": "code",
   "execution_count": 77,
   "metadata": {},
   "outputs": [
    {
     "data": {
      "text/plain": [
       "0.6867505195656763"
      ]
     },
     "execution_count": 77,
     "metadata": {},
     "output_type": "execute_result"
    }
   ],
   "source": [
    "#Training on train + valid data, testing on valid data\n",
    "forest_clf_m3.fit(tvt_x_m3, tvt_y_m3)\n",
    "y_probas_forest = cross_val_predict(forest_clf_m3, tvt_x_m3, tvt_y_m3, cv=10,\n",
    "                                    method=\"predict_proba\")\n",
    "y_scores_forest = y_probas_forest[:, 1] \n",
    "roc_auc_score(tvt_y_m3, y_scores_forest)"
   ]
  },
  {
   "cell_type": "code",
   "execution_count": 78,
   "metadata": {},
   "outputs": [
    {
     "data": {
      "text/plain": [
       "array([[  35,  321],\n",
       "       [  33, 1989]], dtype=int64)"
      ]
     },
     "execution_count": 78,
     "metadata": {},
     "output_type": "execute_result"
    }
   ],
   "source": [
    "#Confusion matrix\n",
    "scaler = StandardScaler()\n",
    "X_train_scaled_m3 = scaler.fit_transform(tvt_x_m3.astype(np.float64))\n",
    "y_train_pred_m3 = cross_val_predict(forest_clf_m3, X_train_scaled_m3, tvt_y_m3, cv=3)\n",
    "conf_mx_m3 = metrics.confusion_matrix(tvt_y_m3, y_train_pred_m3)\n",
    "conf_mx_m3"
   ]
  },
  {
   "cell_type": "code",
   "execution_count": 79,
   "metadata": {},
   "outputs": [
    {
     "data": {
      "image/png": "[encoded data removed]",
      "text/plain": [
       "<Figure size 648x648 with 2 Axes>"
      ]
     },
     "metadata": {
      "needs_background": "light"
     },
     "output_type": "display_data"
    }
   ],
   "source": [
    "#Plotting Confusion matrix\n",
    "plt.figure(figsize=(9,9))\n",
    "sns.heatmap(conf_mx_m3, annot=True, fmt=\".3f\", linewidths=.5, square = True, cmap = 'Blues_r');\n",
    "plt.ylabel('Actual label');\n",
    "plt.xlabel('Predicted label');\n",
    "all_sample_title = 'Accuracy Score: {0}'\n",
    "plt.title(all_sample_title, size = 15);"
   ]
  },
  {
   "cell_type": "code",
   "execution_count": 94,
   "metadata": {},
   "outputs": [
    {
     "data": {
      "text/plain": [
       "0.8511354079058032"
      ]
     },
     "execution_count": 94,
     "metadata": {},
     "output_type": "execute_result"
    }
   ],
   "source": [
    "#Accuracy\n",
    "acc_m3 = metrics.accuracy_score(tvt_y_m3, y_train_pred_m3)\n",
    "acc_m3"
   ]
  },
  {
   "cell_type": "code",
   "execution_count": 99,
   "metadata": {},
   "outputs": [
    {
     "data": {
      "text/plain": [
       "(0.5409970659820625, 0.8511354079058032)"
      ]
     },
     "execution_count": 99,
     "metadata": {},
     "output_type": "execute_result"
    }
   ],
   "source": [
    "#Sensitivity(or Recall)\n",
    "rec_m3_mac = metrics.recall_score(tvt_y_m3, y_train_pred_m3, average='macro')\n",
    "rec_m3_mic = metrics.recall_score(tvt_y_m3, y_train_pred_m3, average='micro')\n",
    "rec_m3_mac , rec_m3_mic"
   ]
  },
  {
   "cell_type": "code",
   "execution_count": 103,
   "metadata": {},
   "outputs": [
    {
     "data": {
      "text/plain": [
       "(0.6878724216959511, 0.8511354079058032)"
      ]
     },
     "execution_count": 103,
     "metadata": {},
     "output_type": "execute_result"
    }
   ],
   "source": [
    "#Precision\n",
    "prec_m3_mac = metrics.precision_score(tvt_y_m3, y_train_pred_m3, average='macro')\n",
    "prec_m3_mic = metrics.precision_score(tvt_y_m3, y_train_pred_m3, average='micro')\n",
    "prec_m3_mac , prec_m3_mic"
   ]
  },
  {
   "cell_type": "code",
   "execution_count": 106,
   "metadata": {},
   "outputs": [
    {
     "data": {
      "text/plain": [
       "(0.541688444049548, 0.8511354079058032)"
      ]
     },
     "execution_count": 106,
     "metadata": {},
     "output_type": "execute_result"
    }
   ],
   "source": [
    "#F-score \n",
    "F1_m3_mac = metrics.f1_score(tvt_y_m3, y_train_pred_m3, average='macro')\n",
    "F1_m3_mic = metrics.f1_score(tvt_y_m3, y_train_pred_m3, average='micro')\n",
    "F1_m3_mac , F1_m3_mic"
   ]
  },
  {
   "cell_type": "markdown",
   "metadata": {},
   "source": [
    "# Model-II Test result"
   ]
  },
  {
   "cell_type": "code",
   "execution_count": 108,
   "metadata": {},
   "outputs": [
    {
     "data": {
      "text/plain": [
       "0.6759781498423412"
      ]
     },
     "execution_count": 108,
     "metadata": {},
     "output_type": "execute_result"
    }
   ],
   "source": [
    "#Testing on test set\n",
    "#ROC_AUC score\n",
    "\n",
    "Ypredict_1_m2 = forest_clf_m2.predict_proba(features_test_m2)[:,1]  \n",
    "roc_auc_score(labels_test_m2, Ypredict_1_m2)"
   ]
  },
  {
   "cell_type": "code",
   "execution_count": 109,
   "metadata": {},
   "outputs": [
    {
     "data": {
      "text/plain": [
       "array([[  9,  80],\n",
       "       [ 11, 495]], dtype=int64)"
      ]
     },
     "execution_count": 109,
     "metadata": {},
     "output_type": "execute_result"
    }
   ],
   "source": [
    "#Confusion matrix\n",
    "scaler = StandardScaler()\n",
    "X_train_scaled_m2 = scaler.fit_transform(features_test_m2.astype(np.float64))\n",
    "y_train_pred_m2 = cross_val_predict(forest_clf_m2, X_train_scaled_m2, labels_test_m2, cv=3)\n",
    "conf_mx_m2 = metrics.confusion_matrix(labels_test_m2, y_train_pred_m2)\n",
    "conf_mx_m2\n"
   ]
  },
  {
   "cell_type": "code",
   "execution_count": 110,
   "metadata": {},
   "outputs": [
    {
     "data": {
      "image/png": "[encoded data removed]",
      "text/plain": [
       "<Figure size 648x648 with 2 Axes>"
      ]
     },
     "metadata": {
      "needs_background": "light"
     },
     "output_type": "display_data"
    }
   ],
   "source": [
    "#Plotting Confusion matrix\n",
    "plt.figure(figsize=(9,9))\n",
    "sns.heatmap(conf_mx_m2, annot=True, fmt=\".3f\", linewidths=.5, square = True, cmap = 'Blues_r');\n",
    "plt.ylabel('Actual label');\n",
    "plt.xlabel('Predicted label');\n",
    "all_sample_title = 'Accuracy Score: {0}'\n",
    "plt.title(all_sample_title, size = 15);"
   ]
  },
  {
   "cell_type": "code",
   "execution_count": 111,
   "metadata": {},
   "outputs": [
    {
     "data": {
      "text/plain": [
       "0.8470588235294118"
      ]
     },
     "execution_count": 111,
     "metadata": {},
     "output_type": "execute_result"
    }
   ],
   "source": [
    "#Accuracy\n",
    "acc_m2 = metrics.accuracy_score(labels_test_m2, y_train_pred_m2)\n",
    "acc_m2"
   ]
  },
  {
   "cell_type": "code",
   "execution_count": 112,
   "metadata": {},
   "outputs": [
    {
     "data": {
      "text/plain": [
       "(0.5396922325354176, 0.8470588235294118)"
      ]
     },
     "execution_count": 112,
     "metadata": {},
     "output_type": "execute_result"
    }
   ],
   "source": [
    "#Sensitivity(or Recall)\n",
    "rec_m2_mac = metrics.recall_score(labels_test_m2, y_train_pred_m2, average='macro')\n",
    "rec_m2_mic = metrics.recall_score(labels_test_m2, y_train_pred_m2, average='micro')\n",
    "rec_m2_mac , rec_m2_mic"
   ]
  },
  {
   "cell_type": "code",
   "execution_count": 113,
   "metadata": {},
   "outputs": [
    {
     "data": {
      "text/plain": [
       "(0.6554347826086957, 0.8470588235294118)"
      ]
     },
     "execution_count": 113,
     "metadata": {},
     "output_type": "execute_result"
    }
   ],
   "source": [
    "#Precision\n",
    "prec_m2_mac = metrics.precision_score(labels_test_m2, y_train_pred_m2, average='macro')\n",
    "prec_m2_mic = metrics.precision_score(labels_test_m2, y_train_pred_m2, average='micro')\n",
    "prec_m2_mac , prec_m2_mic"
   ]
  },
  {
   "cell_type": "code",
   "execution_count": 114,
   "metadata": {},
   "outputs": [
    {
     "data": {
      "text/plain": [
       "(0.5404781505401897, 0.8470588235294118)"
      ]
     },
     "execution_count": 114,
     "metadata": {},
     "output_type": "execute_result"
    }
   ],
   "source": [
    "#F-score \n",
    "F1_m2_mac = metrics.f1_score(labels_test_m2, y_train_pred_m2, average='macro')\n",
    "F1_m2_mic = metrics.f1_score(labels_test_m2, y_train_pred_m2, average='micro')\n",
    "F1_m2_mac , F1_m2_mic"
   ]
  },
  {
   "cell_type": "code",
   "execution_count": null,
   "metadata": {},
   "outputs": [],
   "source": []
  },
  {
   "cell_type": "code",
   "execution_count": null,
   "metadata": {},
   "outputs": [],
   "source": []
  },
  {
   "cell_type": "code",
   "execution_count": null,
   "metadata": {},
   "outputs": [],
   "source": []
  }
 ],
 "metadata": {
  "kernelspec": {
   "display_name": "Python 3",
   "language": "python",
   "name": "python3"
  },
  "language_info": {
   "codemirror_mode": {
    "name": "ipython",
    "version": 3
   },
   "file_extension": ".py",
   "mimetype": "text/x-python",
   "name": "python",
   "nbconvert_exporter": "python",
   "pygments_lexer": "ipython3",
   "version": "3.8.5"
  }
 },
 "nbformat": 4,
 "nbformat_minor": 4
}
